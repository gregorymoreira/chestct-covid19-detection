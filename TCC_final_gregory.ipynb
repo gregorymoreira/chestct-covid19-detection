{
  "nbformat": 4,
  "nbformat_minor": 0,
  "metadata": {
    "accelerator": "GPU",
    "colab": {
      "name": "TCC_final_gregory.ipynb",
      "provenance": [],
      "collapsed_sections": [],
      "machine_shape": "hm"
    },
    "kernelspec": {
      "display_name": "Python 3",
      "name": "python3"
    },
    "language_info": {
      "name": "python"
    }
  },
  "cells": [
    {
      "cell_type": "markdown",
      "metadata": {
        "id": "E02d4VuNY8E_"
      },
      "source": [
        "Importação das bibliotecas utilizadas"
      ]
    },
    {
      "cell_type": "code",
      "metadata": {
        "id": "hum2MrQukX4r"
      },
      "source": [
        "import csv\n",
        "import shutil\n",
        "import pandas as pd\n",
        "import seaborn as sns\n",
        "sns.set(style=\"darkgrid\")\n",
        "import os\n",
        "from imutils import paths\n",
        "import matplotlib.pyplot as plt\n",
        "import tensorflow as tf\n",
        "from sklearn import metrics\n",
        "from sklearn.metrics import roc_curve\n",
        "from sklearn.metrics import auc\n",
        "from sklearn.model_selection import KFold\n",
        "from sklearn.metrics import confusion_matrix\n",
        "import argparse\n",
        "import cv2\n",
        "import numpy as np\n",
        "from tensorflow.keras.applications.resnet50 import preprocess_input\n",
        "from tensorflow.keras.callbacks import EarlyStopping, ModelCheckpoint\n",
        "from PIL import Image\n",
        "import glob\n",
        "import zipfile\n",
        "import time\n",
        "\n",
        "order_list = ['negativo','positivo']\n",
        "\n",
        "IMG_SIZE = (224, 224)\n",
        "IMG_SHAPE = IMG_SIZE + (3,)"
      ],
      "execution_count": 2,
      "outputs": []
    },
    {
      "cell_type": "markdown",
      "metadata": {
        "id": "bEyYY52zZAY6"
      },
      "source": [
        "Utilização do drive para salvar os arquivos de configuração e os resultados obtidos"
      ]
    },
    {
      "cell_type": "code",
      "metadata": {
        "colab": {
          "base_uri": "https://localhost:8080/"
        },
        "id": "NioH-ZirlXJk",
        "outputId": "bf59c858-f288-4915-909b-737f411df237"
      },
      "source": [
        "from google.colab import drive\n",
        "drive.mount('/content/drive')"
      ],
      "execution_count": 4,
      "outputs": [
        {
          "output_type": "stream",
          "name": "stdout",
          "text": [
            "Mounted at /content/drive\n"
          ]
        }
      ]
    },
    {
      "cell_type": "markdown",
      "metadata": {
        "id": "mwJBItsDZS4x"
      },
      "source": [
        "Descompacta as imagens da base GUNRAJ et al. para treinamento validação e teste β"
      ]
    },
    {
      "cell_type": "code",
      "metadata": {
        "id": "Dk8fqOOelcD_"
      },
      "source": [
        "path = '/content/drive/MyDrive/TCC/archive.zip'\n",
        "zip_object = zipfile.ZipFile(file=path, mode='r')\n",
        "zip_object.extractall('./')\n",
        "zip_object.close()"
      ],
      "execution_count": 3,
      "outputs": []
    },
    {
      "cell_type": "markdown",
      "metadata": {
        "id": "L3zEqEsRZcG8"
      },
      "source": [
        "O código a seguir monta os arquivos de configuração para cada fold. Precisa ser executado apenas uma vez"
      ]
    },
    {
      "cell_type": "code",
      "metadata": {
        "id": "a1LFShqflenj"
      },
      "source": [
        "txt_file = r\"/content/drive/MyDrive/TCC/dataset_map.txt\"\n",
        "csv_file = r\"/content/training_files.csv\"\n",
        "\n",
        "in_txt = csv.reader(open(txt_file, \"r\"), delimiter = \" \", quotechar=\" \")\n",
        "out_csv = csv.writer(open(csv_file, 'w', newline='\\n'),delimiter=',', quotechar=' ', quoting=csv.QUOTE_MINIMAL)\n",
        "\n",
        "out_csv.writerows(in_txt)"
      ],
      "execution_count": null,
      "outputs": []
    },
    {
      "cell_type": "markdown",
      "metadata": {
        "id": "09BtAN7zTYcP"
      },
      "source": [
        "Lê o arquivo com todas as classes do trabalho original e faz o remapeamento para 2 classes"
      ]
    },
    {
      "cell_type": "code",
      "metadata": {
        "colab": {
          "base_uri": "https://localhost:8080/",
          "height": 419
        },
        "id": "O4zSB3_EMz8q",
        "outputId": "ba37daae-a9cd-457e-bb7a-e3ff9c103474"
      },
      "source": [
        "training_files = pd.read_csv(r'/content/drive/MyDrive/TCC/training_files.csv')\n",
        "\n",
        "dataset = [] #fazer o append no dataframe depois\n",
        "\n",
        "for i in range(training_files['label'].size):\n",
        "  if training_files['label'][i] == 2: #2 representa covid-19 - COVID POSITIVO\n",
        "    aux = 'positivo' #representando 'covid' -> covid\n",
        "  else:\n",
        "    aux = 'negativo' #representando 'pneumonia' e 'normal' como -> NAO COVID\n",
        "  dataset.append([training_files['filename'][i], aux])\n",
        "\n",
        "dataset = pd.DataFrame(dataset, columns=['filename', 'label'])\n",
        "\n",
        "m = ~dataset['filename'].duplicated(keep='first')\n",
        "dataset = dataset[m]\n",
        "\n",
        "dataset"
      ],
      "execution_count": 4,
      "outputs": [
        {
          "output_type": "execute_result",
          "data": {
            "text/html": [
              "<div>\n",
              "<style scoped>\n",
              "    .dataframe tbody tr th:only-of-type {\n",
              "        vertical-align: middle;\n",
              "    }\n",
              "\n",
              "    .dataframe tbody tr th {\n",
              "        vertical-align: top;\n",
              "    }\n",
              "\n",
              "    .dataframe thead th {\n",
              "        text-align: right;\n",
              "    }\n",
              "</style>\n",
              "<table border=\"1\" class=\"dataframe\">\n",
              "  <thead>\n",
              "    <tr style=\"text-align: right;\">\n",
              "      <th></th>\n",
              "      <th>filename</th>\n",
              "      <th>label</th>\n",
              "    </tr>\n",
              "  </thead>\n",
              "  <tbody>\n",
              "    <tr>\n",
              "      <th>0</th>\n",
              "      <td>NCP_96_1328_0032.png</td>\n",
              "      <td>positivo</td>\n",
              "    </tr>\n",
              "    <tr>\n",
              "      <th>1</th>\n",
              "      <td>NCP_96_1328_0035.png</td>\n",
              "      <td>positivo</td>\n",
              "    </tr>\n",
              "    <tr>\n",
              "      <th>2</th>\n",
              "      <td>NCP_96_1328_0036.png</td>\n",
              "      <td>positivo</td>\n",
              "    </tr>\n",
              "    <tr>\n",
              "      <th>3</th>\n",
              "      <td>NCP_96_1328_0037.png</td>\n",
              "      <td>positivo</td>\n",
              "    </tr>\n",
              "    <tr>\n",
              "      <th>4</th>\n",
              "      <td>NCP_96_1328_0038.png</td>\n",
              "      <td>positivo</td>\n",
              "    </tr>\n",
              "    <tr>\n",
              "      <th>...</th>\n",
              "      <td>...</td>\n",
              "      <td>...</td>\n",
              "    </tr>\n",
              "    <tr>\n",
              "      <th>194917</th>\n",
              "      <td>radiopaedia_40_86625_0-0078.png</td>\n",
              "      <td>positivo</td>\n",
              "    </tr>\n",
              "    <tr>\n",
              "      <th>194918</th>\n",
              "      <td>radiopaedia_40_86625_0-0079.png</td>\n",
              "      <td>positivo</td>\n",
              "    </tr>\n",
              "    <tr>\n",
              "      <th>194919</th>\n",
              "      <td>radiopaedia_40_86625_0-0080.png</td>\n",
              "      <td>positivo</td>\n",
              "    </tr>\n",
              "    <tr>\n",
              "      <th>194920</th>\n",
              "      <td>radiopaedia_40_86625_0-0081.png</td>\n",
              "      <td>positivo</td>\n",
              "    </tr>\n",
              "    <tr>\n",
              "      <th>194921</th>\n",
              "      <td>radiopaedia_40_86625_0-0082.png</td>\n",
              "      <td>positivo</td>\n",
              "    </tr>\n",
              "  </tbody>\n",
              "</table>\n",
              "<p>194922 rows × 2 columns</p>\n",
              "</div>"
            ],
            "text/plain": [
              "                               filename     label\n",
              "0                  NCP_96_1328_0032.png  positivo\n",
              "1                  NCP_96_1328_0035.png  positivo\n",
              "2                  NCP_96_1328_0036.png  positivo\n",
              "3                  NCP_96_1328_0037.png  positivo\n",
              "4                  NCP_96_1328_0038.png  positivo\n",
              "...                                 ...       ...\n",
              "194917  radiopaedia_40_86625_0-0078.png  positivo\n",
              "194918  radiopaedia_40_86625_0-0079.png  positivo\n",
              "194919  radiopaedia_40_86625_0-0080.png  positivo\n",
              "194920  radiopaedia_40_86625_0-0081.png  positivo\n",
              "194921  radiopaedia_40_86625_0-0082.png  positivo\n",
              "\n",
              "[194922 rows x 2 columns]"
            ]
          },
          "metadata": {},
          "execution_count": 4
        }
      ]
    },
    {
      "cell_type": "markdown",
      "metadata": {
        "id": "WeybGgW-TjWg"
      },
      "source": [
        "Exibe a distribuição total das imagens entre as classes envolvidas"
      ]
    },
    {
      "cell_type": "code",
      "metadata": {
        "colab": {
          "base_uri": "https://localhost:8080/",
          "height": 355
        },
        "id": "AR5HYJeaWEJl",
        "outputId": "d8c9c39d-f8dd-48d6-ac01-71ebd08fcc33"
      },
      "source": [
        "fig, ax = plt.subplots(figsize=(5, 5))\n",
        "sns.countplot(x='label', data = dataset, order=order_list).set_title(\"Full Dataset\")\n",
        "for rect in ax.patches:\n",
        "    ax.text (rect.get_x() + rect.get_width()  / 2,rect.get_height()+ 0.75,rect.get_height(),horizontalalignment='center', fontsize = 14)"
      ],
      "execution_count": 5,
      "outputs": [
        {
          "output_type": "display_data",
          "data": {
            "image/png": "[encoded data removed]",
            "text/plain": [
              "<Figure size 360x360 with 1 Axes>"
            ]
          },
          "metadata": {}
        }
      ]
    },
    {
      "cell_type": "markdown",
      "metadata": {
        "id": "aKMBIJCITtKF"
      },
      "source": [
        "Divide os dados do trabalho original para 80% treinamento e 20% validação"
      ]
    },
    {
      "cell_type": "code",
      "metadata": {
        "id": "YyokDxbKlkY3"
      },
      "source": [
        "from sklearn.model_selection import train_test_split\n",
        "train, test = train_test_split(dataset, test_size=0.2)"
      ],
      "execution_count": null,
      "outputs": []
    },
    {
      "cell_type": "markdown",
      "metadata": {
        "id": "W71HCVQpULH7"
      },
      "source": [
        "Registra em memória os conjuntos de treinamento e teste divididos anteriormente"
      ]
    },
    {
      "cell_type": "code",
      "metadata": {
        "id": "fpdnqwiilwRu"
      },
      "source": [
        "#grava as divisões treinamento e testes na memoria\n",
        "train.to_csv('/content/drive/MyDrive/TCC/train.csv', index=False)\n",
        "test.to_csv('/content/drive/MyDrive/TCC/test.csv', index=False)"
      ],
      "execution_count": null,
      "outputs": []
    },
    {
      "cell_type": "markdown",
      "metadata": {
        "id": "P2dOop2scgX0"
      },
      "source": [
        "Consulta das configurações salvas para treinamento"
      ]
    },
    {
      "cell_type": "code",
      "metadata": {
        "colab": {
          "base_uri": "https://localhost:8080/"
        },
        "id": "GDj02A0Plz1D",
        "outputId": "960bb6e5-2fae-4025-ca99-9e7aae82b1de"
      },
      "source": [
        "##le do drive\n",
        "train = pd.read_csv(r'/content/drive/MyDrive/TCC/train.csv')\n",
        "print(train)"
      ],
      "execution_count": 6,
      "outputs": [
        {
          "output_type": "stream",
          "name": "stdout",
          "text": [
            "                         filename     label\n",
            "0        HUST-Patient198-0226.png  positivo\n",
            "1        HUST-Patient357-0146.png  positivo\n",
            "2           CP_1122_3340_0096.png  negativo\n",
            "3       HUST-Patient1391-0178.png  positivo\n",
            "4         Normal_795_230_0068.png  negativo\n",
            "...                           ...       ...\n",
            "155932    Normal_770_205_0090.png  negativo\n",
            "155933  HUST-Patient1382-0193.png  positivo\n",
            "155934      NCP_460_2074_0059.png  positivo\n",
            "155935      NCP_845_2363_0320.png  positivo\n",
            "155936  Normal_1742_1055_0053.png  negativo\n",
            "\n",
            "[155937 rows x 2 columns]\n"
          ]
        }
      ]
    },
    {
      "cell_type": "markdown",
      "metadata": {
        "id": "wWUlaYM6T4hq"
      },
      "source": [
        "Exibe o gráfico com a distruição entre as classes das imagens do conjunto de treinamento"
      ]
    },
    {
      "cell_type": "code",
      "metadata": {
        "colab": {
          "base_uri": "https://localhost:8080/",
          "height": 355
        },
        "id": "PEHBAn2JTlkE",
        "outputId": "85f8ddd7-a7e1-4678-98d3-ce7a790f9779"
      },
      "source": [
        "fig, ax = plt.subplots(figsize=(5, 5))\n",
        "sns.countplot(x='label', data = train, order=order_list).set_title(\"Train and Val Dataset\")\n",
        "for rect in ax.patches:\n",
        "    ax.text (rect.get_x() + rect.get_width()  / 2,rect.get_height()+ 0.75,rect.get_height(),horizontalalignment='center', fontsize = 14)"
      ],
      "execution_count": 7,
      "outputs": [
        {
          "output_type": "display_data",
          "data": {
            "image/png": "[encoded data removed]",
            "text/plain": [
              "<Figure size 360x360 with 1 Axes>"
            ]
          },
          "metadata": {}
        }
      ]
    },
    {
      "cell_type": "markdown",
      "metadata": {
        "id": "CYRQYYp8UBnL"
      },
      "source": [
        "Registra em memória a configuração de arquivos de treinamento e validação para cada fold. Precisa ser executado apenas 1 vez"
      ]
    },
    {
      "cell_type": "code",
      "metadata": {
        "id": "2NodUIHtm_ZB"
      },
      "source": [
        "X_train = train['filename']\n",
        "Y_train = train['label']\n",
        "\n",
        "kf = KFold(n_splits = 5, shuffle = True)\n",
        "\n",
        "fold = 1\n",
        "for train_index, val_index in kf.split(X_train ,Y_train):\n",
        "\n",
        "  train_data = train.iloc[train_index]\n",
        "  val_data = train.iloc[val_index]\n",
        "\n",
        "  train_data.to_csv('/content/drive/MyDrive/TCC/config_folds/train_fold_' + str(fold) + '.csv', index=False)\n",
        "  val_data.to_csv('/content/drive/MyDrive/TCC/config_folds/val_fold_' + str(fold) + '.csv', index=False)\n",
        "\n",
        "  fold += 1"
      ],
      "execution_count": null,
      "outputs": []
    },
    {
      "cell_type": "markdown",
      "metadata": {
        "id": "dNlwtuK1USf9"
      },
      "source": [
        "Lê da memória o conjunto de dados para teste do modelo"
      ]
    },
    {
      "cell_type": "code",
      "metadata": {
        "colab": {
          "base_uri": "https://localhost:8080/"
        },
        "id": "gqaBgvb9l1Ok",
        "outputId": "adaaf67b-7d82-42ac-fe1c-977eaad33d23"
      },
      "source": [
        "test = pd.read_csv('/content/drive/MyDrive/TCC/test.csv')\n",
        "print(test)"
      ],
      "execution_count": 8,
      "outputs": [
        {
          "output_type": "stream",
          "name": "stdout",
          "text": [
            "                        filename     label\n",
            "0           CP_597_2959_0221.png  negativo\n",
            "1       HUST-Patient820-0145.png  positivo\n",
            "2          CP_1440_3950_0010.png  negativo\n",
            "3        Normal_778_213_0112.png  negativo\n",
            "4       Normal_1720_996_0043.png  negativo\n",
            "...                          ...       ...\n",
            "38980      NCP_498_2152_0064.png  positivo\n",
            "38981  Normal_3910_5446_0053.png  negativo\n",
            "38982   HUST-Patient257-0204.png  positivo\n",
            "38983      CP_3643_5602_0114.png  negativo\n",
            "38984    Normal_797_232_0075.png  negativo\n",
            "\n",
            "[38985 rows x 2 columns]\n"
          ]
        }
      ]
    },
    {
      "cell_type": "markdown",
      "metadata": {
        "id": "NkxHsUUzUXwE"
      },
      "source": [
        "Exibe a distribuição entre classes do conjunto de teste"
      ]
    },
    {
      "cell_type": "code",
      "metadata": {
        "colab": {
          "base_uri": "https://localhost:8080/",
          "height": 355
        },
        "id": "bcv5a8-6YEsV",
        "outputId": "b1330436-0f8c-4b96-86db-4d93184287c1"
      },
      "source": [
        "fig, ax = plt.subplots(figsize=(5, 5))\n",
        "sns.countplot(ax=ax, x='label', data = test,order=order_list).set_title(\"Test Dataset\")\n",
        "\n",
        "for rect in ax.patches:\n",
        "    ax.text (rect.get_x() + rect.get_width()  / 2,rect.get_height()+ 0.75,rect.get_height(),horizontalalignment='center', fontsize = 14)"
      ],
      "execution_count": 9,
      "outputs": [
        {
          "output_type": "display_data",
          "data": {
            "image/png": "[encoded data removed]",
            "text/plain": [
              "<Figure size 360x360 with 1 Axes>"
            ]
          },
          "metadata": {}
        }
      ]
    },
    {
      "cell_type": "markdown",
      "metadata": {
        "id": "vpcDaUUfdkko"
      },
      "source": [
        "Cria o arquivo de resultados\n",
        "Deve ser executado apenas na primeira vez\n",
        "\n"
      ]
    },
    {
      "cell_type": "code",
      "metadata": {
        "id": "-wfd66b9nZ-0"
      },
      "source": [
        "#executar 1 vez\n",
        "with open('/content/drive/MyDrive/TCC/resultados/resultados.csv', 'w') as arquivo_csv:\n",
        "    colunas = ['Fold', 'Loss', 'TN','FP','FN','TP', 'Accuracy', 'Sensitivity', 'Specificity', 'Precision', 'F1-score', 'AUROC', 'TPR', 'FPR' ]\n",
        "    escrever = csv.DictWriter(arquivo_csv, fieldnames=colunas, delimiter=',', lineterminator='\\n')\n",
        "    escrever.writeheader()\n",
        "\n",
        "    arquivo_csv.close()"
      ],
      "execution_count": null,
      "outputs": []
    },
    {
      "cell_type": "markdown",
      "metadata": {
        "id": "zQu9BcVPUdAf"
      },
      "source": [
        "Cria o diretório onde as imagens redimensionadas irão ficar"
      ]
    },
    {
      "cell_type": "code",
      "metadata": {
        "id": "bObCdz1peUj6"
      },
      "source": [
        "mkdir dataset"
      ],
      "execution_count": 10,
      "outputs": []
    },
    {
      "cell_type": "markdown",
      "metadata": {
        "id": "9qVem89XUgz-"
      },
      "source": [
        "Verifica a presença de arquivos que não sejam imagens"
      ]
    },
    {
      "cell_type": "code",
      "metadata": {
        "colab": {
          "base_uri": "https://localhost:8080/"
        },
        "id": "QhrGj0gI9hk8",
        "outputId": "e2e9b782-10dc-4875-ba57-2f44ac82b987"
      },
      "source": [
        "#verificação se existem arquivos diferentes de png no dataset do trabalho de gunraj\n",
        "cont_dif_png = 0\n",
        "\n",
        "for i in dataset['filename']:\n",
        "  file_name = os.path.basename(i)\n",
        "  if os.path.splitext(file_name)[1] != '.png':\n",
        "    cont_dif_png += 1\n",
        "\n",
        "print(cont_dif_png)"
      ],
      "execution_count": 11,
      "outputs": [
        {
          "output_type": "stream",
          "name": "stdout",
          "text": [
            "0\n"
          ]
        }
      ]
    },
    {
      "cell_type": "markdown",
      "metadata": {
        "id": "SniiQQqJUn2G"
      },
      "source": [
        "Redimensiona todos os arquivos de Gunraj"
      ]
    },
    {
      "cell_type": "code",
      "metadata": {
        "colab": {
          "base_uri": "https://localhost:8080/"
        },
        "id": "Q95Lc8-cmZKq",
        "outputId": "cb98e540-e4e6-43a4-85f1-0ac778134e34"
      },
      "source": [
        "#alternativa com openCV \n",
        "datasetPath = '/content/dataset/'\n",
        "aux = 0\n",
        "\n",
        "for imagePath in dataset['filename']:\n",
        "  src = cv2.imread(\"/content/2A_images/\"+ imagePath)\n",
        "  output = cv2.resize(src, (224,224))\n",
        "  file_name = os.path.basename(imagePath)\n",
        "  cv2.imwrite(datasetPath + file_name,output)\n",
        "  \n",
        "  aux += 1\n",
        "\n",
        "print(aux)"
      ],
      "execution_count": 12,
      "outputs": [
        {
          "output_type": "stream",
          "name": "stdout",
          "text": [
            "194922\n"
          ]
        }
      ]
    },
    {
      "cell_type": "code",
      "metadata": {
        "colab": {
          "base_uri": "https://localhost:8080/",
          "height": 419
        },
        "id": "cRQPQzEVm6gQ",
        "outputId": "50928668-9b70-49dd-8c0e-bb80317a6ada"
      },
      "source": [
        "#verifica se na pasta final com os dados existe arquivos repetidos conj gunraj\n",
        "dataset_final = glob.glob('/content/dataset/*.*')\n",
        "\n",
        "df10 = []\n",
        "for i in dataset_final:\n",
        "  df10.append(os.path.basename(i))\n",
        "\n",
        "df10 = pd.DataFrame(df10, columns=['filename'])\n",
        "\n",
        "m = ~df10['filename'].duplicated(keep='first')\n",
        "df10 = df10[m]\n",
        "df10"
      ],
      "execution_count": 13,
      "outputs": [
        {
          "output_type": "execute_result",
          "data": {
            "text/html": [
              "<div>\n",
              "<style scoped>\n",
              "    .dataframe tbody tr th:only-of-type {\n",
              "        vertical-align: middle;\n",
              "    }\n",
              "\n",
              "    .dataframe tbody tr th {\n",
              "        vertical-align: top;\n",
              "    }\n",
              "\n",
              "    .dataframe thead th {\n",
              "        text-align: right;\n",
              "    }\n",
              "</style>\n",
              "<table border=\"1\" class=\"dataframe\">\n",
              "  <thead>\n",
              "    <tr style=\"text-align: right;\">\n",
              "      <th></th>\n",
              "      <th>filename</th>\n",
              "    </tr>\n",
              "  </thead>\n",
              "  <tbody>\n",
              "    <tr>\n",
              "      <th>0</th>\n",
              "      <td>CP_1139_3357_0236.png</td>\n",
              "    </tr>\n",
              "    <tr>\n",
              "      <th>1</th>\n",
              "      <td>HUST-Patient1309-0235.png</td>\n",
              "    </tr>\n",
              "    <tr>\n",
              "      <th>2</th>\n",
              "      <td>NCP_188_1520_0053.png</td>\n",
              "    </tr>\n",
              "    <tr>\n",
              "      <th>3</th>\n",
              "      <td>volume-covid19-A-0073_ct-0039.png</td>\n",
              "    </tr>\n",
              "    <tr>\n",
              "      <th>4</th>\n",
              "      <td>Normal_3842_5354_0164.png</td>\n",
              "    </tr>\n",
              "    <tr>\n",
              "      <th>...</th>\n",
              "      <td>...</td>\n",
              "    </tr>\n",
              "    <tr>\n",
              "      <th>194917</th>\n",
              "      <td>volume-covid19-A-0644-0040.png</td>\n",
              "    </tr>\n",
              "    <tr>\n",
              "      <th>194918</th>\n",
              "      <td>normal1_patient202_SR_2_IM00036.png</td>\n",
              "    </tr>\n",
              "    <tr>\n",
              "      <th>194919</th>\n",
              "      <td>CP_3733_5674_0098.png</td>\n",
              "    </tr>\n",
              "    <tr>\n",
              "      <th>194920</th>\n",
              "      <td>HUST-Patient293-0256.png</td>\n",
              "    </tr>\n",
              "    <tr>\n",
              "      <th>194921</th>\n",
              "      <td>HUST-Patient281-0210.png</td>\n",
              "    </tr>\n",
              "  </tbody>\n",
              "</table>\n",
              "<p>194922 rows × 1 columns</p>\n",
              "</div>"
            ],
            "text/plain": [
              "                                   filename\n",
              "0                     CP_1139_3357_0236.png\n",
              "1                 HUST-Patient1309-0235.png\n",
              "2                     NCP_188_1520_0053.png\n",
              "3         volume-covid19-A-0073_ct-0039.png\n",
              "4                 Normal_3842_5354_0164.png\n",
              "...                                     ...\n",
              "194917       volume-covid19-A-0644-0040.png\n",
              "194918  normal1_patient202_SR_2_IM00036.png\n",
              "194919                CP_3733_5674_0098.png\n",
              "194920             HUST-Patient293-0256.png\n",
              "194921             HUST-Patient281-0210.png\n",
              "\n",
              "[194922 rows x 1 columns]"
            ]
          },
          "metadata": {},
          "execution_count": 13
        }
      ]
    },
    {
      "cell_type": "markdown",
      "metadata": {
        "id": "XvkOyYlVUxCX"
      },
      "source": [
        "Importação do conjunto alpha"
      ]
    },
    {
      "cell_type": "code",
      "metadata": {
        "id": "k9Z3T8pZybhC"
      },
      "source": [
        "path = '/content/drive/MyDrive/TCC/ct_dataset_tcc_gregory_v_1_0.zip'\n",
        "zip_object = zipfile.ZipFile(file=path, mode='r')\n",
        "zip_object.extractall('./')\n",
        "zip_object.close()\n",
        "\n",
        "import glob\n",
        "covid_pos = glob.glob('/content/dataset_ct_tcc_gregory_v1/CT_COVID/*.*')\n",
        "covid_neg = glob.glob('/content/dataset_ct_tcc_gregory_v1/CT_NonCOVID/*.*')\n",
        "\n",
        "dado1={'filename':covid_neg,'label':'negativo'}\n",
        "dado2={'filename':covid_pos,'label':'positivo'}\n",
        "dado1df = pd.DataFrame(dado1)\n",
        "dado2df = pd.DataFrame(dado2)"
      ],
      "execution_count": 14,
      "outputs": []
    },
    {
      "cell_type": "code",
      "metadata": {
        "id": "mVj_UspLqTdp"
      },
      "source": [
        "conjalpha = pd.DataFrame(columns=['filename','label'])"
      ],
      "execution_count": 15,
      "outputs": []
    },
    {
      "cell_type": "code",
      "metadata": {
        "id": "xspL-LOBra1K"
      },
      "source": [
        "k = 0"
      ],
      "execution_count": 16,
      "outputs": []
    },
    {
      "cell_type": "code",
      "metadata": {
        "id": "0zWq6zwwrYCT"
      },
      "source": [
        "for i in range(dado1df['filename'].size):\n",
        "  conjalpha.loc[k] = [dado1df['filename'][i],dado1df['label'][i]]\n",
        "  k += 1 "
      ],
      "execution_count": 17,
      "outputs": []
    },
    {
      "cell_type": "code",
      "metadata": {
        "id": "hKWxX4gJtxBn"
      },
      "source": [
        "for i in range(dado2df['filename'].size):\n",
        "  conjalpha.loc[k] = [dado2df['filename'][i],dado2df['label'][i]]\n",
        "  k += 1 "
      ],
      "execution_count": 18,
      "outputs": []
    },
    {
      "cell_type": "markdown",
      "metadata": {
        "id": "NIO4mQkuU2Bf"
      },
      "source": [
        "Cria o diretório onde as imagens do conjunto aplha irão ficar depois de redimensionadas"
      ]
    },
    {
      "cell_type": "code",
      "metadata": {
        "id": "m8OAYBlBAACE"
      },
      "source": [
        "mkdir conjalpha"
      ],
      "execution_count": 19,
      "outputs": []
    },
    {
      "cell_type": "markdown",
      "metadata": {
        "id": "woVisHMLU8IA"
      },
      "source": [
        "Verificação se existem arquivos diferentes de imagens no conjunto alpha"
      ]
    },
    {
      "cell_type": "code",
      "metadata": {
        "colab": {
          "base_uri": "https://localhost:8080/"
        },
        "id": "H3P-EzRsDCYe",
        "outputId": "f8c23f91-8693-4d7f-f968-1ad20c4be69d"
      },
      "source": [
        "#verificação se existem arquivos diferentes de png no dataset do trabalho de zhao\n",
        "cont_dif_png = 0\n",
        "\n",
        "for i in conjalpha['filename']:\n",
        "  file_name = os.path.basename(i)\n",
        "  if os.path.splitext(file_name)[1] != '.png':\n",
        "    cont_dif_png += 1\n",
        "\n",
        "print(cont_dif_png)"
      ],
      "execution_count": 20,
      "outputs": [
        {
          "output_type": "stream",
          "name": "stdout",
          "text": [
            "201\n"
          ]
        }
      ]
    },
    {
      "cell_type": "markdown",
      "metadata": {
        "id": "ySIIv3LwTGjP"
      },
      "source": [
        "Faz a operação de resize apenas nos arquivos em formato png e desconsidera os outros"
      ]
    },
    {
      "cell_type": "code",
      "metadata": {
        "colab": {
          "base_uri": "https://localhost:8080/"
        },
        "id": "EZKX5Sq9_txz",
        "outputId": "d809e02f-4b2a-4f2a-fefe-320028790a89"
      },
      "source": [
        "datasetPath = '/content/conjalpha/'\n",
        "aux = 0\n",
        "#rep_convertidos = 0\n",
        "\n",
        "for imagePath in conjalpha['filename']:\n",
        "  file_name = os.path.basename(imagePath)\n",
        "  if os.path.splitext(file_name)[1] != '.png':\n",
        "    continue\n",
        "  else:\n",
        "    src = cv2.imread(imagePath)\n",
        "    output = cv2.resize(src, (224,224))\n",
        "    cv2.imwrite(datasetPath + file_name,output)\n",
        "  aux += 1\n",
        "\n",
        "print(aux)"
      ],
      "execution_count": 21,
      "outputs": [
        {
          "output_type": "stream",
          "name": "stdout",
          "text": [
            "541\n"
          ]
        }
      ]
    },
    {
      "cell_type": "code",
      "metadata": {
        "colab": {
          "base_uri": "https://localhost:8080/",
          "height": 419
        },
        "id": "AZSiqRLMxa29",
        "outputId": "c7430fc4-1f5e-4ddc-ac2c-f6131979430e"
      },
      "source": [
        "conjalpha"
      ],
      "execution_count": 22,
      "outputs": [
        {
          "output_type": "execute_result",
          "data": {
            "text/html": [
              "<div>\n",
              "<style scoped>\n",
              "    .dataframe tbody tr th:only-of-type {\n",
              "        vertical-align: middle;\n",
              "    }\n",
              "\n",
              "    .dataframe tbody tr th {\n",
              "        vertical-align: top;\n",
              "    }\n",
              "\n",
              "    .dataframe thead th {\n",
              "        text-align: right;\n",
              "    }\n",
              "</style>\n",
              "<table border=\"1\" class=\"dataframe\">\n",
              "  <thead>\n",
              "    <tr style=\"text-align: right;\">\n",
              "      <th></th>\n",
              "      <th>filename</th>\n",
              "      <th>label</th>\n",
              "    </tr>\n",
              "  </thead>\n",
              "  <tbody>\n",
              "    <tr>\n",
              "      <th>0</th>\n",
              "      <td>/content/dataset_ct_tcc_gregory_v1/CT_NonCOVID...</td>\n",
              "      <td>negativo</td>\n",
              "    </tr>\n",
              "    <tr>\n",
              "      <th>1</th>\n",
              "      <td>/content/dataset_ct_tcc_gregory_v1/CT_NonCOVID...</td>\n",
              "      <td>negativo</td>\n",
              "    </tr>\n",
              "    <tr>\n",
              "      <th>2</th>\n",
              "      <td>/content/dataset_ct_tcc_gregory_v1/CT_NonCOVID...</td>\n",
              "      <td>negativo</td>\n",
              "    </tr>\n",
              "    <tr>\n",
              "      <th>3</th>\n",
              "      <td>/content/dataset_ct_tcc_gregory_v1/CT_NonCOVID...</td>\n",
              "      <td>negativo</td>\n",
              "    </tr>\n",
              "    <tr>\n",
              "      <th>4</th>\n",
              "      <td>/content/dataset_ct_tcc_gregory_v1/CT_NonCOVID...</td>\n",
              "      <td>negativo</td>\n",
              "    </tr>\n",
              "    <tr>\n",
              "      <th>...</th>\n",
              "      <td>...</td>\n",
              "      <td>...</td>\n",
              "    </tr>\n",
              "    <tr>\n",
              "      <th>737</th>\n",
              "      <td>/content/dataset_ct_tcc_gregory_v1/CT_COVID/20...</td>\n",
              "      <td>positivo</td>\n",
              "    </tr>\n",
              "    <tr>\n",
              "      <th>738</th>\n",
              "      <td>/content/dataset_ct_tcc_gregory_v1/CT_COVID/20...</td>\n",
              "      <td>positivo</td>\n",
              "    </tr>\n",
              "    <tr>\n",
              "      <th>739</th>\n",
              "      <td>/content/dataset_ct_tcc_gregory_v1/CT_COVID/20...</td>\n",
              "      <td>positivo</td>\n",
              "    </tr>\n",
              "    <tr>\n",
              "      <th>740</th>\n",
              "      <td>/content/dataset_ct_tcc_gregory_v1/CT_COVID/20...</td>\n",
              "      <td>positivo</td>\n",
              "    </tr>\n",
              "    <tr>\n",
              "      <th>741</th>\n",
              "      <td>/content/dataset_ct_tcc_gregory_v1/CT_COVID/20...</td>\n",
              "      <td>positivo</td>\n",
              "    </tr>\n",
              "  </tbody>\n",
              "</table>\n",
              "<p>742 rows × 2 columns</p>\n",
              "</div>"
            ],
            "text/plain": [
              "                                              filename     label\n",
              "0    /content/dataset_ct_tcc_gregory_v1/CT_NonCOVID...  negativo\n",
              "1    /content/dataset_ct_tcc_gregory_v1/CT_NonCOVID...  negativo\n",
              "2    /content/dataset_ct_tcc_gregory_v1/CT_NonCOVID...  negativo\n",
              "3    /content/dataset_ct_tcc_gregory_v1/CT_NonCOVID...  negativo\n",
              "4    /content/dataset_ct_tcc_gregory_v1/CT_NonCOVID...  negativo\n",
              "..                                                 ...       ...\n",
              "737  /content/dataset_ct_tcc_gregory_v1/CT_COVID/20...  positivo\n",
              "738  /content/dataset_ct_tcc_gregory_v1/CT_COVID/20...  positivo\n",
              "739  /content/dataset_ct_tcc_gregory_v1/CT_COVID/20...  positivo\n",
              "740  /content/dataset_ct_tcc_gregory_v1/CT_COVID/20...  positivo\n",
              "741  /content/dataset_ct_tcc_gregory_v1/CT_COVID/20...  positivo\n",
              "\n",
              "[742 rows x 2 columns]"
            ]
          },
          "metadata": {},
          "execution_count": 22
        }
      ]
    },
    {
      "cell_type": "code",
      "metadata": {
        "id": "DYgBA7l0eebr",
        "colab": {
          "base_uri": "https://localhost:8080/",
          "height": 419
        },
        "outputId": "09b62210-da05-4cc6-fff0-1a28c41d42ee"
      },
      "source": [
        "for imagePath in conjalpha['filename']:\n",
        "  file_name = os.path.basename(imagePath)\n",
        "  conjalpha.loc[conjalpha.filename==imagePath,'filename']=file_name\n",
        "  \n",
        "conjalpha"
      ],
      "execution_count": 23,
      "outputs": [
        {
          "output_type": "execute_result",
          "data": {
            "text/html": [
              "<div>\n",
              "<style scoped>\n",
              "    .dataframe tbody tr th:only-of-type {\n",
              "        vertical-align: middle;\n",
              "    }\n",
              "\n",
              "    .dataframe tbody tr th {\n",
              "        vertical-align: top;\n",
              "    }\n",
              "\n",
              "    .dataframe thead th {\n",
              "        text-align: right;\n",
              "    }\n",
              "</style>\n",
              "<table border=\"1\" class=\"dataframe\">\n",
              "  <thead>\n",
              "    <tr style=\"text-align: right;\">\n",
              "      <th></th>\n",
              "      <th>filename</th>\n",
              "      <th>label</th>\n",
              "    </tr>\n",
              "  </thead>\n",
              "  <tbody>\n",
              "    <tr>\n",
              "      <th>0</th>\n",
              "      <td>1921.png</td>\n",
              "      <td>negativo</td>\n",
              "    </tr>\n",
              "    <tr>\n",
              "      <th>1</th>\n",
              "      <td>26%1.jpg</td>\n",
              "      <td>negativo</td>\n",
              "    </tr>\n",
              "    <tr>\n",
              "      <th>2</th>\n",
              "      <td>20.jpg</td>\n",
              "      <td>negativo</td>\n",
              "    </tr>\n",
              "    <tr>\n",
              "      <th>3</th>\n",
              "      <td>52%1.jpg</td>\n",
              "      <td>negativo</td>\n",
              "    </tr>\n",
              "    <tr>\n",
              "      <th>4</th>\n",
              "      <td>14%2.jpg</td>\n",
              "      <td>negativo</td>\n",
              "    </tr>\n",
              "    <tr>\n",
              "      <th>...</th>\n",
              "      <td>...</td>\n",
              "      <td>...</td>\n",
              "    </tr>\n",
              "    <tr>\n",
              "      <th>737</th>\n",
              "      <td>2020.02.10.20021584-p6-52%9.png</td>\n",
              "      <td>positivo</td>\n",
              "    </tr>\n",
              "    <tr>\n",
              "      <th>738</th>\n",
              "      <td>2020.02.25.20021568-p23-108%10.png</td>\n",
              "      <td>positivo</td>\n",
              "    </tr>\n",
              "    <tr>\n",
              "      <th>739</th>\n",
              "      <td>2020.03.16.20035105-p6-64-2.png</td>\n",
              "      <td>positivo</td>\n",
              "    </tr>\n",
              "    <tr>\n",
              "      <th>740</th>\n",
              "      <td>2020.03.22.20040782-p24-1533-5.png</td>\n",
              "      <td>positivo</td>\n",
              "    </tr>\n",
              "    <tr>\n",
              "      <th>741</th>\n",
              "      <td>2020.03.07.20031393-p7-50%2.png</td>\n",
              "      <td>positivo</td>\n",
              "    </tr>\n",
              "  </tbody>\n",
              "</table>\n",
              "<p>742 rows × 2 columns</p>\n",
              "</div>"
            ],
            "text/plain": [
              "                               filename     label\n",
              "0                              1921.png  negativo\n",
              "1                              26%1.jpg  negativo\n",
              "2                                20.jpg  negativo\n",
              "3                              52%1.jpg  negativo\n",
              "4                              14%2.jpg  negativo\n",
              "..                                  ...       ...\n",
              "737     2020.02.10.20021584-p6-52%9.png  positivo\n",
              "738  2020.02.25.20021568-p23-108%10.png  positivo\n",
              "739     2020.03.16.20035105-p6-64-2.png  positivo\n",
              "740  2020.03.22.20040782-p24-1533-5.png  positivo\n",
              "741     2020.03.07.20031393-p7-50%2.png  positivo\n",
              "\n",
              "[742 rows x 2 columns]"
            ]
          },
          "metadata": {},
          "execution_count": 23
        }
      ]
    },
    {
      "cell_type": "code",
      "metadata": {
        "colab": {
          "base_uri": "https://localhost:8080/",
          "height": 419
        },
        "id": "CtMB-UVEycc8",
        "outputId": "3f4eba60-d99d-4215-d95d-a8016565763e"
      },
      "source": [
        "#verifica se na pasta final com os dados existe arquivos repetidos\n",
        "dataset_final = glob.glob('/content/conjalpha/*.*')\n",
        "\n",
        "df12 = []\n",
        "for i in dataset_final:\n",
        "  df12.append(os.path.basename(i))\n",
        "\n",
        "df12 = pd.DataFrame(df12, columns=['filename'])\n",
        "\n",
        "m = ~df12['filename'].duplicated(keep='first')\n",
        "df12 = df12[m]\n",
        "df12"
      ],
      "execution_count": 24,
      "outputs": [
        {
          "output_type": "execute_result",
          "data": {
            "text/html": [
              "<div>\n",
              "<style scoped>\n",
              "    .dataframe tbody tr th:only-of-type {\n",
              "        vertical-align: middle;\n",
              "    }\n",
              "\n",
              "    .dataframe tbody tr th {\n",
              "        vertical-align: top;\n",
              "    }\n",
              "\n",
              "    .dataframe thead th {\n",
              "        text-align: right;\n",
              "    }\n",
              "</style>\n",
              "<table border=\"1\" class=\"dataframe\">\n",
              "  <thead>\n",
              "    <tr style=\"text-align: right;\">\n",
              "      <th></th>\n",
              "      <th>filename</th>\n",
              "    </tr>\n",
              "  </thead>\n",
              "  <tbody>\n",
              "    <tr>\n",
              "      <th>0</th>\n",
              "      <td>2020.02.19.20025023-p20-93%0.png</td>\n",
              "    </tr>\n",
              "    <tr>\n",
              "      <th>1</th>\n",
              "      <td>1921.png</td>\n",
              "    </tr>\n",
              "    <tr>\n",
              "      <th>2</th>\n",
              "      <td>2020.02.10.20021584-p6-52%6.png</td>\n",
              "    </tr>\n",
              "    <tr>\n",
              "      <th>3</th>\n",
              "      <td>2020.03.11.20033159-p12-45%2.png</td>\n",
              "    </tr>\n",
              "    <tr>\n",
              "      <th>4</th>\n",
              "      <td>2020.02.10.20021584-p6-52%1.png</td>\n",
              "    </tr>\n",
              "    <tr>\n",
              "      <th>...</th>\n",
              "      <td>...</td>\n",
              "    </tr>\n",
              "    <tr>\n",
              "      <th>536</th>\n",
              "      <td>2020.02.10.20021584-p6-52%9.png</td>\n",
              "    </tr>\n",
              "    <tr>\n",
              "      <th>537</th>\n",
              "      <td>2020.02.25.20021568-p23-108%10.png</td>\n",
              "    </tr>\n",
              "    <tr>\n",
              "      <th>538</th>\n",
              "      <td>2020.03.16.20035105-p6-64-2.png</td>\n",
              "    </tr>\n",
              "    <tr>\n",
              "      <th>539</th>\n",
              "      <td>2020.03.22.20040782-p24-1533-5.png</td>\n",
              "    </tr>\n",
              "    <tr>\n",
              "      <th>540</th>\n",
              "      <td>2020.03.07.20031393-p7-50%2.png</td>\n",
              "    </tr>\n",
              "  </tbody>\n",
              "</table>\n",
              "<p>541 rows × 1 columns</p>\n",
              "</div>"
            ],
            "text/plain": [
              "                               filename\n",
              "0      2020.02.19.20025023-p20-93%0.png\n",
              "1                              1921.png\n",
              "2       2020.02.10.20021584-p6-52%6.png\n",
              "3      2020.03.11.20033159-p12-45%2.png\n",
              "4       2020.02.10.20021584-p6-52%1.png\n",
              "..                                  ...\n",
              "536     2020.02.10.20021584-p6-52%9.png\n",
              "537  2020.02.25.20021568-p23-108%10.png\n",
              "538     2020.03.16.20035105-p6-64-2.png\n",
              "539  2020.03.22.20040782-p24-1533-5.png\n",
              "540     2020.03.07.20031393-p7-50%2.png\n",
              "\n",
              "[541 rows x 1 columns]"
            ]
          },
          "metadata": {},
          "execution_count": 24
        }
      ]
    },
    {
      "cell_type": "code",
      "metadata": {
        "colab": {
          "base_uri": "https://localhost:8080/",
          "height": 419
        },
        "id": "cw8lsRaXWtoD",
        "outputId": "ca23e8a4-4935-459e-a9d3-f2d0c7c1c435"
      },
      "source": [
        "df14 = []\n",
        "\n",
        "k = 0\n",
        "for i in range(conjalpha['label'].size):\n",
        "  for j in range(df12['filename'].size):\n",
        "    if conjalpha['filename'][i] == df12['filename'][j]:\n",
        "      df14.append([conjalpha['filename'][i],conjalpha['label'][i]])\n",
        "      break\n",
        "    else:\n",
        "      continue\n",
        "#verifica se o arquivo do conjunto original foi redimensionado no formato png e \n",
        "#ignora o restante dos arquivos em outros formatos\n",
        "df14 = pd.DataFrame(df14, columns=['filename','label']) \n",
        "df14"
      ],
      "execution_count": 25,
      "outputs": [
        {
          "output_type": "execute_result",
          "data": {
            "text/html": [
              "<div>\n",
              "<style scoped>\n",
              "    .dataframe tbody tr th:only-of-type {\n",
              "        vertical-align: middle;\n",
              "    }\n",
              "\n",
              "    .dataframe tbody tr th {\n",
              "        vertical-align: top;\n",
              "    }\n",
              "\n",
              "    .dataframe thead th {\n",
              "        text-align: right;\n",
              "    }\n",
              "</style>\n",
              "<table border=\"1\" class=\"dataframe\">\n",
              "  <thead>\n",
              "    <tr style=\"text-align: right;\">\n",
              "      <th></th>\n",
              "      <th>filename</th>\n",
              "      <th>label</th>\n",
              "    </tr>\n",
              "  </thead>\n",
              "  <tbody>\n",
              "    <tr>\n",
              "      <th>0</th>\n",
              "      <td>1921.png</td>\n",
              "      <td>negativo</td>\n",
              "    </tr>\n",
              "    <tr>\n",
              "      <th>1</th>\n",
              "      <td>577.png</td>\n",
              "      <td>negativo</td>\n",
              "    </tr>\n",
              "    <tr>\n",
              "      <th>2</th>\n",
              "      <td>1058.png</td>\n",
              "      <td>negativo</td>\n",
              "    </tr>\n",
              "    <tr>\n",
              "      <th>3</th>\n",
              "      <td>1060.png</td>\n",
              "      <td>negativo</td>\n",
              "    </tr>\n",
              "    <tr>\n",
              "      <th>4</th>\n",
              "      <td>378.png</td>\n",
              "      <td>negativo</td>\n",
              "    </tr>\n",
              "    <tr>\n",
              "      <th>...</th>\n",
              "      <td>...</td>\n",
              "      <td>...</td>\n",
              "    </tr>\n",
              "    <tr>\n",
              "      <th>536</th>\n",
              "      <td>2020.02.10.20021584-p6-52%9.png</td>\n",
              "      <td>positivo</td>\n",
              "    </tr>\n",
              "    <tr>\n",
              "      <th>537</th>\n",
              "      <td>2020.02.25.20021568-p23-108%10.png</td>\n",
              "      <td>positivo</td>\n",
              "    </tr>\n",
              "    <tr>\n",
              "      <th>538</th>\n",
              "      <td>2020.03.16.20035105-p6-64-2.png</td>\n",
              "      <td>positivo</td>\n",
              "    </tr>\n",
              "    <tr>\n",
              "      <th>539</th>\n",
              "      <td>2020.03.22.20040782-p24-1533-5.png</td>\n",
              "      <td>positivo</td>\n",
              "    </tr>\n",
              "    <tr>\n",
              "      <th>540</th>\n",
              "      <td>2020.03.07.20031393-p7-50%2.png</td>\n",
              "      <td>positivo</td>\n",
              "    </tr>\n",
              "  </tbody>\n",
              "</table>\n",
              "<p>541 rows × 2 columns</p>\n",
              "</div>"
            ],
            "text/plain": [
              "                               filename     label\n",
              "0                              1921.png  negativo\n",
              "1                               577.png  negativo\n",
              "2                              1058.png  negativo\n",
              "3                              1060.png  negativo\n",
              "4                               378.png  negativo\n",
              "..                                  ...       ...\n",
              "536     2020.02.10.20021584-p6-52%9.png  positivo\n",
              "537  2020.02.25.20021568-p23-108%10.png  positivo\n",
              "538     2020.03.16.20035105-p6-64-2.png  positivo\n",
              "539  2020.03.22.20040782-p24-1533-5.png  positivo\n",
              "540     2020.03.07.20031393-p7-50%2.png  positivo\n",
              "\n",
              "[541 rows x 2 columns]"
            ]
          },
          "metadata": {},
          "execution_count": 25
        }
      ]
    },
    {
      "cell_type": "code",
      "metadata": {
        "colab": {
          "base_uri": "https://localhost:8080/"
        },
        "id": "T651Sf9nuwOp",
        "outputId": "700d838d-1a5b-4612-f722-878ab94a4cf1"
      },
      "source": [
        "#verificação se existem arquivos diferentes de png no dataset do trabalho de zhao\n",
        "cont_dif_png = 0\n",
        "\n",
        "for i in df14['filename']:\n",
        "  file_name = os.path.basename(i)\n",
        "  if os.path.splitext(file_name)[1] != '.png':\n",
        "    cont_dif_png += 1\n",
        "\n",
        "print(cont_dif_png)"
      ],
      "execution_count": 26,
      "outputs": [
        {
          "output_type": "stream",
          "name": "stdout",
          "text": [
            "0\n"
          ]
        }
      ]
    },
    {
      "cell_type": "markdown",
      "metadata": {
        "id": "_X83WpJUVFpT"
      },
      "source": [
        "Exibe a distribuição das imagens entre as classes para o conjunto de teste alpha"
      ]
    },
    {
      "cell_type": "code",
      "metadata": {
        "colab": {
          "base_uri": "https://localhost:8080/",
          "height": 355
        },
        "id": "6EKobgZeAJel",
        "outputId": "6153711a-21b8-45df-8f8c-d660ca111dbb"
      },
      "source": [
        "fig, ax = plt.subplots(figsize=(5, 5))\n",
        "sns.countplot(x='label', data = df14, order=order_list).set_title(\"Conjunto Alpha\")\n",
        "for rect in ax.patches:\n",
        "    ax.text (rect.get_x() + rect.get_width()  / 2,rect.get_height()+ 0.75,rect.get_height(),horizontalalignment='center', fontsize = 14)"
      ],
      "execution_count": 27,
      "outputs": [
        {
          "output_type": "display_data",
          "data": {
            "image/png": "[encoded data removed]",
            "text/plain": [
              "<Figure size 360x360 with 1 Axes>"
            ]
          },
          "metadata": {
            "needs_background": "light"
          }
        }
      ]
    },
    {
      "cell_type": "markdown",
      "metadata": {
        "id": "QmrYYAQVQpij"
      },
      "source": [
        "# Visualização das imagens"
      ]
    },
    {
      "cell_type": "code",
      "metadata": {
        "id": "2JFPNSfJQpAr"
      },
      "source": [
        "from matplotlib.pyplot import imshow\n",
        "import numpy as np\n",
        "from PIL import Image\n",
        "\n",
        "#0           CP_597_2959_0221.png  negativo\n",
        "#1       HUST-Patient820-0145.png  positivo\n",
        "\n",
        "%matplotlib inline\n",
        "pil_im = Image.open('/content/2A_images/CP_597_2959_0221.png', 'r')\n",
        "pil_im2 = Image.open('/content/dataset/CP_597_2959_0221.png', 'r')\n",
        "#imshow(np.asarray(pil_im))\n",
        "display(pil_im)"
      ],
      "execution_count": null,
      "outputs": []
    },
    {
      "cell_type": "code",
      "metadata": {
        "id": "9j4HLlshZabC"
      },
      "source": [
        "pil_im2"
      ],
      "execution_count": null,
      "outputs": []
    },
    {
      "cell_type": "code",
      "metadata": {
        "id": "8UT7YdlPgqsB"
      },
      "source": [
        "from matplotlib.pyplot import imshow\n",
        "import numpy as np\n",
        "from PIL import Image\n",
        "\n",
        "#0           CP_597_2959_0221.png  negativo\n",
        "#1       HUST-Patient820-0145.png  positivo\n",
        "\n",
        "%matplotlib inline\n",
        "pil_im = Image.open('/content/2A_images/HUST-Patient820-0145.png', 'r')\n",
        "pil_im2 = Image.open('/content/dataset/HUST-Patient820-0145.png', 'r')\n",
        "#imshow(np.asarray(pil_im))\n",
        "display(pil_im)"
      ],
      "execution_count": null,
      "outputs": []
    },
    {
      "cell_type": "code",
      "metadata": {
        "id": "H-oxdOJWgs3_"
      },
      "source": [
        "pil_im2"
      ],
      "execution_count": null,
      "outputs": []
    },
    {
      "cell_type": "markdown",
      "metadata": {
        "id": "7Kzz1eLvc8Im"
      },
      "source": [
        "# Definição da arquitetura do modelo"
      ]
    },
    {
      "cell_type": "markdown",
      "metadata": {
        "id": "oBCewJYwVMg4"
      },
      "source": [
        "Define e compila a arquitetura do modelo de rede neural convolucional utilizando transfer learning"
      ]
    },
    {
      "cell_type": "code",
      "metadata": {
        "id": "i77onxg5nWYM"
      },
      "source": [
        "def get_model():\n",
        "\n",
        "  base_model = tf.keras.applications.ResNet50(input_shape=IMG_SHAPE,\n",
        "                                               include_top=False,\n",
        "                                               weights='imagenet')\n",
        "  base_model.trainable = False\n",
        "\n",
        "  inputs = tf.keras.Input(shape=(224, 224, 3))\n",
        "  x = preprocess_input(inputs)\n",
        "  x = base_model(x, training=False)\n",
        "  x = tf.keras.layers.GlobalAveragePooling2D()(x)\n",
        "  outputs = tf.keras.layers.Dense(1, activation='sigmoid')(x)\n",
        "  model = tf.keras.models.Model(inputs, outputs)\n",
        "\n",
        "  model.compile(optimizer=tf.keras.optimizers.Adam(),\n",
        "            loss=tf.keras.losses.BinaryCrossentropy(),\n",
        "            metrics=[tf.keras.metrics.TrueNegatives(name='tn'),tf.keras.metrics.FalsePositives(name='fp'),\n",
        "                     tf.keras.metrics.FalseNegatives(name='fn'),tf.keras.metrics.TruePositives(name='tp'),\n",
        "                     tf.keras.metrics.BinaryAccuracy(name='accuracy'),tf.keras.metrics.Precision(name='precision'),tf.keras.metrics.Recall(name='recall'),\n",
        "                     tf.keras.metrics.AUC(name='auc')]\n",
        "            )\n",
        "\n",
        "  return model"
      ],
      "execution_count": 28,
      "outputs": []
    },
    {
      "cell_type": "code",
      "metadata": {
        "colab": {
          "base_uri": "https://localhost:8080/"
        },
        "id": "PHU2VwWYnX0o",
        "outputId": "f86202be-9530-44f5-9419-146bb810d821"
      },
      "source": [
        "final_model = get_model()\n",
        "final_model.summary()"
      ],
      "execution_count": 29,
      "outputs": [
        {
          "output_type": "stream",
          "name": "stdout",
          "text": [
            "Downloading data from https://storage.googleapis.com/tensorflow/keras-applications/resnet/resnet50_weights_tf_dim_ordering_tf_kernels_notop.h5\n",
            "94773248/94765736 [==============================] - 1s 0us/step\n",
            "94781440/94765736 [==============================] - 1s 0us/step\n",
            "Model: \"model\"\n",
            "_________________________________________________________________\n",
            "Layer (type)                 Output Shape              Param #   \n",
            "=================================================================\n",
            "input_2 (InputLayer)         [(None, 224, 224, 3)]     0         \n",
            "_________________________________________________________________\n",
            "tf.__operators__.getitem (Sl (None, 224, 224, 3)       0         \n",
            "_________________________________________________________________\n",
            "tf.nn.bias_add (TFOpLambda)  (None, 224, 224, 3)       0         \n",
            "_________________________________________________________________\n",
            "resnet50 (Functional)        (None, 7, 7, 2048)        23587712  \n",
            "_________________________________________________________________\n",
            "global_average_pooling2d (Gl (None, 2048)              0         \n",
            "_________________________________________________________________\n",
            "dense (Dense)                (None, 1)                 2049      \n",
            "=================================================================\n",
            "Total params: 23,589,761\n",
            "Trainable params: 2,049\n",
            "Non-trainable params: 23,587,712\n",
            "_________________________________________________________________\n"
          ]
        }
      ]
    },
    {
      "cell_type": "markdown",
      "metadata": {
        "id": "XmsASfYIVUnL"
      },
      "source": [
        "Exibe o diagrama da arquitetura final do modelo"
      ]
    },
    {
      "cell_type": "code",
      "metadata": {
        "colab": {
          "base_uri": "https://localhost:8080/",
          "height": 644
        },
        "id": "xGrXU6B2mvvG",
        "outputId": "b227dc19-6f02-4ee3-f2f5-98c97a3a6df0"
      },
      "source": [
        "tf.keras.utils.plot_model(final_model, show_shapes=True)"
      ],
      "execution_count": 30,
      "outputs": [
        {
          "output_type": "execute_result",
          "data": {
            "image/png": "[encoded data removed]",
            "text/plain": [
              "<IPython.core.display.Image object>"
            ]
          },
          "metadata": {},
          "execution_count": 30
        }
      ]
    },
    {
      "cell_type": "markdown",
      "metadata": {
        "id": "K069-fbQdO2X"
      },
      "source": [
        "Salva o JSON com a arquitetura do modelo e os pesos do imagenet"
      ]
    },
    {
      "cell_type": "code",
      "metadata": {
        "id": "Oftnvr4fy5Uw"
      },
      "source": [
        "# serialize model to JSON\n",
        "model_json = final_model.to_json()\n",
        "with open(\"/content/drive/MyDrive/TCC/modelo/model.json\", \"w\") as json_file:\n",
        "    json_file.write(model_json)\n",
        "# serialize weights to HDF5\n",
        "final_model.save_weights(\"/content/drive/MyDrive/TCC/modelo/weights_imagenet.h5\")\n",
        "print(\"Saved model to disk\")"
      ],
      "execution_count": null,
      "outputs": []
    },
    {
      "cell_type": "markdown",
      "metadata": {
        "id": "BwIspBEbdV_4"
      },
      "source": [
        "Função get_model com o carregamento da arquitetura direto do drive"
      ]
    },
    {
      "cell_type": "code",
      "metadata": {
        "id": "VL4N03uK6R8R"
      },
      "source": [
        "def get_model():\n",
        "  # load json and create model\n",
        "  json_file = open(r'/content/drive/MyDrive/TCC/modelo/model.json', 'r')\n",
        "  loaded_model_json = json_file.read()\n",
        "  json_file.close()\n",
        "  loaded_model = tf.keras.models.model_from_json(loaded_model_json)\n",
        "  # load weights\n",
        "  loaded_model.load_weights(r'/content/drive/MyDrive/TCC/saved_models/weights_1')\n",
        "  print(\"Loaded model from disk\")\n",
        "\n",
        "  loaded_model.compile(optimizer=tf.keras.optimizers.Adam(),\n",
        "                loss=tf.keras.losses.BinaryCrossentropy(),\n",
        "                metrics=[tf.keras.metrics.BinaryAccuracy()])\n",
        "\n",
        "  return loaded_model"
      ],
      "execution_count": null,
      "outputs": []
    },
    {
      "cell_type": "markdown",
      "metadata": {
        "id": "NEzmWC0LdsiU"
      },
      "source": [
        "Define o generator"
      ]
    },
    {
      "cell_type": "code",
      "metadata": {
        "id": "XIbmqGr9na9D"
      },
      "source": [
        "idg = tf.keras.preprocessing.image.ImageDataGenerator()"
      ],
      "execution_count": null,
      "outputs": []
    },
    {
      "cell_type": "markdown",
      "metadata": {
        "id": "E2922rh4dvPr"
      },
      "source": [
        "Carrega o arquivo do fold em questão para treinamento"
      ]
    },
    {
      "cell_type": "code",
      "metadata": {
        "id": "wZLiJZ75ncYc"
      },
      "source": [
        "save_dir = '/content/drive/MyDrive/TCC/saved_models/'\n",
        "fold_var = 1\n",
        "\n",
        "\n",
        "training_data = pd.read_csv(r'/content/drive/MyDrive/TCC/config_folds/train_fold_'+str(fold_var)+'.csv')\n",
        "validation_data = pd.read_csv(r'/content/drive/MyDrive/TCC/config_folds/val_fold_'+str(fold_var)+'.csv')"
      ],
      "execution_count": null,
      "outputs": []
    },
    {
      "cell_type": "markdown",
      "metadata": {
        "id": "_i5ULUF2d136"
      },
      "source": [
        "Define os dataframes que irão passar as imagens, de acordo com o filename e a classe, ao modelo"
      ]
    },
    {
      "cell_type": "code",
      "metadata": {
        "colab": {
          "base_uri": "https://localhost:8080/"
        },
        "id": "EEYFh73jUjv1",
        "outputId": "c9f687a9-a079-4cb8-d583-b137c63d6a19"
      },
      "source": [
        "train_data_generator = idg.flow_from_dataframe(training_data, directory = '/content/dataset',\n",
        "\t\t\t\t\t\t       x_col = \"filename\", y_col = \"label\",\n",
        "\t\t\t\t\t\t       class_mode = \"binary\", shuffle = True, target_size=(224,224), batch_size=64)\n",
        "  \n",
        "val_data_generator  = idg.flow_from_dataframe(validation_data, directory = '/content/dataset',\n",
        "                  x_col = \"filename\", y_col = \"label\",\n",
        "                  class_mode = \"binary\", shuffle = True, target_size=(224,224), batch_size=64)"
      ],
      "execution_count": null,
      "outputs": [
        {
          "name": "stdout",
          "output_type": "stream",
          "text": [
            "Found 124749 validated image filenames belonging to 2 classes.\n",
            "Found 31188 validated image filenames belonging to 2 classes.\n"
          ]
        }
      ]
    },
    {
      "cell_type": "code",
      "metadata": {
        "colab": {
          "base_uri": "https://localhost:8080/"
        },
        "id": "ZCFq48rsUx04",
        "outputId": "7f3ca58e-05f2-4f8e-f90b-0e4133f37304"
      },
      "source": [
        "val_data_generator.class_indices"
      ],
      "execution_count": null,
      "outputs": [
        {
          "data": {
            "text/plain": [
              "{'negativo': 0, 'positivo': 1}"
            ]
          },
          "execution_count": 17,
          "metadata": {},
          "output_type": "execute_result"
        }
      ]
    },
    {
      "cell_type": "markdown",
      "metadata": {
        "id": "RDirVbIGeAIo"
      },
      "source": [
        "É definida uma instância do modelo e o treinamento para o fold definido é realizado"
      ]
    },
    {
      "cell_type": "code",
      "metadata": {
        "id": "DyHIkSWvnehv"
      },
      "source": [
        "model = get_model()\n",
        "\n",
        "\n",
        "keras_callbacks = [\n",
        "      ModelCheckpoint(save_dir + 'weights_fold_'+str(fold_var), monitor='val_loss', save_best_only=True, mode='min', \n",
        "                      save_weights_only=True, verbose = 1)\n",
        "                  ]\n",
        "\t# This saves the best model\n",
        "\n",
        "print('------------------------------------------------------------------------')\n",
        "print(f'Training for fold {fold_var} ...')\n",
        "\n",
        "  # Train the Model\n",
        "history = model.fit(train_data_generator,\n",
        "                      epochs=10,\n",
        "                      verbose=1,\n",
        "                      validation_data=val_data_generator,\n",
        "                      callbacks=keras_callbacks)"
      ],
      "execution_count": null,
      "outputs": []
    },
    {
      "cell_type": "markdown",
      "metadata": {
        "id": "JeJQASn5VlNz"
      },
      "source": [
        "Criação de nova instância para evaluate do modelo"
      ]
    },
    {
      "cell_type": "code",
      "metadata": {
        "id": "EBKWLEgzpr4h"
      },
      "source": [
        "model = get_model()"
      ],
      "execution_count": null,
      "outputs": []
    },
    {
      "cell_type": "markdown",
      "metadata": {
        "id": "Gyn64zOfVp4H"
      },
      "source": [
        "Carga dos pesos que obtiveram melhor resultado durante o treinamento"
      ]
    },
    {
      "cell_type": "code",
      "metadata": {
        "colab": {
          "base_uri": "https://localhost:8080/"
        },
        "id": "3N1wPd61hrUV",
        "outputId": "fcd28e55-2857-49f7-8c78-9daf0623df06"
      },
      "source": [
        "model.load_weights(save_dir + 'weights_fold_'+str(fold_var))"
      ],
      "execution_count": null,
      "outputs": [
        {
          "data": {
            "text/plain": [
              "<tensorflow.python.training.tracking.util.CheckpointLoadStatus at 0x7f9d2956efd0>"
            ]
          },
          "execution_count": 80,
          "metadata": {},
          "output_type": "execute_result"
        }
      ]
    },
    {
      "cell_type": "markdown",
      "metadata": {
        "id": "SWicN80uVvoT"
      },
      "source": [
        "Evaluate do modelo"
      ]
    },
    {
      "cell_type": "code",
      "metadata": {
        "colab": {
          "base_uri": "https://localhost:8080/"
        },
        "id": "yPSAJaqUvHf8",
        "outputId": "c702bbc3-d7e4-4c09-9296-306ddb8ca3db"
      },
      "source": [
        "# evaluate\n",
        "scores = model.evaluate(val_data_generator)\n",
        "#pos 0 = loss --- pos 1 = acc\n",
        "predicted_classes_prob_train = model.predict(val_data_generator)"
      ],
      "execution_count": null,
      "outputs": [
        {
          "name": "stdout",
          "output_type": "stream",
          "text": [
            "488/488 [==============================] - 69s 139ms/step - loss: 0.0595 - tn: 15458.0000 - fp: 441.0000 - fn: 271.0000 - tp: 15017.0000 - accuracy: 0.9772 - precision: 0.9715 - recall: 0.9823 - auc: 0.9977\n"
          ]
        }
      ]
    },
    {
      "cell_type": "markdown",
      "metadata": {
        "id": "6a-NUD4iVxSV"
      },
      "source": [
        "Visualização das métricas"
      ]
    },
    {
      "cell_type": "code",
      "metadata": {
        "id": "LPTY3ffisRxB"
      },
      "source": [
        "print('Loss: {} \\n TN: {} \\n FP: {} \\n FN: {} \\n TP: {} \\n Accuracy: {} \\n Precision: {} \\n Recall: {} \\n AUC: {}'.format(scores[0],scores[1],scores[2],scores[3],scores[4],scores[5],scores[6],scores[7],scores[8]))"
      ],
      "execution_count": null,
      "outputs": []
    },
    {
      "cell_type": "code",
      "metadata": {
        "id": "AmLpi-4dJW85"
      },
      "source": [
        "tn = scores[1]\n",
        "fp = scores[2]\n",
        "fn = scores[3]\n",
        "tp = scores[4]\n",
        "\n",
        "accuracy_train = (tp+tn)/(tp+tn+fp+fn)\n",
        "\n",
        "sensitivity_train = tp/(tp+fn)\n",
        "recall_train = tp/(tp+fn)\n",
        "\n",
        "specificity_train = tn/(tn+fp)\n",
        "\n",
        "precision_train = tp/(tp+fp)\n",
        "f1_score_train = (2*(precision_train*recall_train))/(precision_train + recall_train)\n",
        "\n",
        "tpr_train = tp/(tp+fn)\n",
        "fpr_train = fp/(fp+tn)\n",
        "\n",
        "print(accuracy_train)\n",
        "print(sensitivity_train)\n",
        "print(specificity_train)\n",
        "print(precision_train)\n",
        "print(recall_train)\n",
        "print(f1_score_train)\n",
        "\n",
        "print(tpr_train)\n",
        "print(fpr_train)"
      ],
      "execution_count": null,
      "outputs": []
    },
    {
      "cell_type": "markdown",
      "metadata": {
        "id": "B6GZQZFRV1LG"
      },
      "source": [
        "Registra em memória os resultados para do treinamento para o fold em questão"
      ]
    },
    {
      "cell_type": "code",
      "metadata": {
        "id": "pr5oKp8TVzWo"
      },
      "source": [
        "with open(r'/content/drive/MyDrive/TCC/resultados/resultados.csv', 'a') as arquivo_csv:\n",
        "    colunas = ['Fold', 'Loss', 'TN','FP','FN','TP', 'Accuracy', 'Sensitivity', 'Specificity', 'Precision', 'F1-score', 'AUROC', 'TPR', 'FPR' ]\n",
        "    escrever = csv.DictWriter(arquivo_csv, fieldnames=colunas, delimiter=',', lineterminator='\\n')\n",
        "    escrever.writerow({'Fold': str(fold_var), \n",
        "                       'Loss': scores[0], \n",
        "                       'TN': scores[1],\n",
        "                       'FP': scores[2],\n",
        "                       'FN': scores[3],\n",
        "                       'TP': scores[4], \n",
        "                       'Accuracy': scores[5], \n",
        "                       'Sensitivity': scores[7], \n",
        "                       'Specificity': specificity_train, \n",
        "                       'Precision': scores[6], \n",
        "                       'F1-score': f1_score_train,\n",
        "                       'AUROC': scores[8], \n",
        "                       'TPR': tpr_train, \n",
        "                       'FPR': fpr_train\n",
        "                       })\n",
        "    arquivo_csv.close()"
      ],
      "execution_count": null,
      "outputs": []
    },
    {
      "cell_type": "markdown",
      "metadata": {
        "id": "10DyBHo-V66n"
      },
      "source": [
        "Monta e salva em memória os gráficos de loss e accuracy para o fold no qual foi realizado o treinamento"
      ]
    },
    {
      "cell_type": "code",
      "metadata": {
        "colab": {
          "base_uri": "https://localhost:8080/",
          "height": 585
        },
        "id": "Pj6I0xAwnh5m",
        "outputId": "41de1dd4-9150-4217-af75-20023196bda1"
      },
      "source": [
        "\n",
        "acc = history.history['accuracy']\n",
        "val_acc = history.history['val_accuracy']\n",
        "\n",
        "loss = history.history['loss']\n",
        "val_loss = history.history['val_loss']\n",
        "\n",
        "plt.plot(acc, label='Training Accuracy')\n",
        "plt.plot(val_acc, label='Validation Accuracy')\n",
        "plt.legend(loc='lower right')\n",
        "plt.ylabel('Binary Accuracy')\n",
        "plt.ylim([min(plt.ylim()),1])\n",
        "plt.title('Training and Validation Binary Accuracy - Fold ' +str(fold_var))\n",
        "plt.xlabel('Epoch')\n",
        "plt.savefig('/content/drive/MyDrive/TCC/graficos_folds/Training and Validation Accuracy_Fold_'+str(fold_var)+'.png')\n",
        "plt.show()\n",
        "\n",
        "\n",
        "plt.plot(loss, label='Training Loss')\n",
        "plt.plot(val_loss, label='Validation Loss')\n",
        "plt.legend(loc='upper right')\n",
        "plt.ylabel('Loss')\n",
        "plt.title('Training and Validation Loss - Fold ' +str(fold_var))\n",
        "plt.xlabel('Epoch')\n",
        "plt.savefig('/content/drive/MyDrive/TCC/graficos_folds/Training and Validation Loss_Fold_'+str(fold_var)+'.png')\n",
        "plt.show()"
      ],
      "execution_count": null,
      "outputs": [
        {
          "data": {
            "image/png": "[encoded data removed]",
            "text/plain": [
              "<Figure size 432x288 with 1 Axes>"
            ]
          },
          "metadata": {},
          "output_type": "display_data"
        },
        {
          "data": {
            "image/png": "[encoded data removed]",
            "text/plain": [
              "<Figure size 432x288 with 1 Axes>"
            ]
          },
          "metadata": {},
          "output_type": "display_data"
        }
      ]
    },
    {
      "cell_type": "code",
      "metadata": {
        "id": "UnOBz833tY2Y"
      },
      "source": [
        "#usando esse\n",
        "plt.plot(fpr_keras_train, tpr_keras_train, lw = 2, label = 'ROC AUC: {:.3f}'.format(auc_keras_train))\n",
        "plt.plot([0, 1], [0, 1],\n",
        "         linestyle = '--',\n",
        "         color = (0.6, 0.6, 0.6))#,\n",
        "         #label = 'Random guessing')\n",
        "#plt.plot([0, 0, 1], [0, 1, 1],\n",
        "#         linestyle = ':',\n",
        "#         color = 'black', \n",
        "#         label = 'Perfect performance')\n",
        "\n",
        "plt.xlim([-0.05, 1.05])\n",
        "plt.ylim([-0.05, 1.05])\n",
        "plt.xlabel('False positive rate')\n",
        "plt.ylabel('True positive rate')\n",
        "plt.title('Training ROC AUC - Fold ' +str(fold_var))\n",
        "plt.legend(loc = \"lower right\")\n",
        "#plt.tight_layout()\n",
        "plt.savefig('/content/drive/MyDrive/TCC/graficos_folds/Training ROC AUC_Fold_'+str(fold_var)+'.png')\n",
        "plt.show()"
      ],
      "execution_count": null,
      "outputs": []
    },
    {
      "cell_type": "markdown",
      "metadata": {
        "id": "W4rbXjOjWEJh"
      },
      "source": [
        "Exibe os resultados de todos os folds já treinados até o momento"
      ]
    },
    {
      "cell_type": "code",
      "metadata": {
        "colab": {
          "base_uri": "https://localhost:8080/",
          "height": 241
        },
        "id": "xXPLLUWjnyNx",
        "outputId": "c8b60d0a-f561-4818-a5f6-d5221717dfc3"
      },
      "source": [
        "result = pd.read_csv(r'/content/drive/MyDrive/TCC/resultados/resultados.csv')\n",
        "result = pd.DataFrame(result)\n",
        "result"
      ],
      "execution_count": 5,
      "outputs": [
        {
          "output_type": "execute_result",
          "data": {
            "text/html": [
              "<div>\n",
              "<style scoped>\n",
              "    .dataframe tbody tr th:only-of-type {\n",
              "        vertical-align: middle;\n",
              "    }\n",
              "\n",
              "    .dataframe tbody tr th {\n",
              "        vertical-align: top;\n",
              "    }\n",
              "\n",
              "    .dataframe thead th {\n",
              "        text-align: right;\n",
              "    }\n",
              "</style>\n",
              "<table border=\"1\" class=\"dataframe\">\n",
              "  <thead>\n",
              "    <tr style=\"text-align: right;\">\n",
              "      <th></th>\n",
              "      <th>Fold</th>\n",
              "      <th>Loss</th>\n",
              "      <th>TN</th>\n",
              "      <th>FP</th>\n",
              "      <th>FN</th>\n",
              "      <th>TP</th>\n",
              "      <th>Accuracy</th>\n",
              "      <th>Sensitivity</th>\n",
              "      <th>Specificity</th>\n",
              "      <th>Precision</th>\n",
              "      <th>F1-score</th>\n",
              "      <th>AUROC</th>\n",
              "      <th>TPR</th>\n",
              "      <th>FPR</th>\n",
              "    </tr>\n",
              "  </thead>\n",
              "  <tbody>\n",
              "    <tr>\n",
              "      <th>0</th>\n",
              "      <td>1</td>\n",
              "      <td>0.051881</td>\n",
              "      <td>15670.0</td>\n",
              "      <td>336.0</td>\n",
              "      <td>226.0</td>\n",
              "      <td>14956.0</td>\n",
              "      <td>0.981980</td>\n",
              "      <td>0.985114</td>\n",
              "      <td>0.979008</td>\n",
              "      <td>0.978028</td>\n",
              "      <td>0.981558</td>\n",
              "      <td>0.998090</td>\n",
              "      <td>0.985114</td>\n",
              "      <td>0.020992</td>\n",
              "    </tr>\n",
              "    <tr>\n",
              "      <th>1</th>\n",
              "      <td>2</td>\n",
              "      <td>0.057544</td>\n",
              "      <td>15874.0</td>\n",
              "      <td>247.0</td>\n",
              "      <td>378.0</td>\n",
              "      <td>14689.0</td>\n",
              "      <td>0.979960</td>\n",
              "      <td>0.974912</td>\n",
              "      <td>0.984678</td>\n",
              "      <td>0.983463</td>\n",
              "      <td>0.979169</td>\n",
              "      <td>0.997576</td>\n",
              "      <td>0.974912</td>\n",
              "      <td>0.015322</td>\n",
              "    </tr>\n",
              "    <tr>\n",
              "      <th>2</th>\n",
              "      <td>3</td>\n",
              "      <td>0.055389</td>\n",
              "      <td>15575.0</td>\n",
              "      <td>407.0</td>\n",
              "      <td>211.0</td>\n",
              "      <td>14994.0</td>\n",
              "      <td>0.980184</td>\n",
              "      <td>0.986123</td>\n",
              "      <td>0.974534</td>\n",
              "      <td>0.973573</td>\n",
              "      <td>0.979808</td>\n",
              "      <td>0.998002</td>\n",
              "      <td>0.986123</td>\n",
              "      <td>0.025466</td>\n",
              "    </tr>\n",
              "    <tr>\n",
              "      <th>3</th>\n",
              "      <td>4</td>\n",
              "      <td>0.057336</td>\n",
              "      <td>15865.0</td>\n",
              "      <td>380.0</td>\n",
              "      <td>282.0</td>\n",
              "      <td>14660.0</td>\n",
              "      <td>0.978773</td>\n",
              "      <td>0.981127</td>\n",
              "      <td>0.976608</td>\n",
              "      <td>0.974734</td>\n",
              "      <td>0.977920</td>\n",
              "      <td>0.997741</td>\n",
              "      <td>0.981127</td>\n",
              "      <td>0.023392</td>\n",
              "    </tr>\n",
              "    <tr>\n",
              "      <th>4</th>\n",
              "      <td>5</td>\n",
              "      <td>0.059549</td>\n",
              "      <td>15458.0</td>\n",
              "      <td>441.0</td>\n",
              "      <td>271.0</td>\n",
              "      <td>15017.0</td>\n",
              "      <td>0.977170</td>\n",
              "      <td>0.982274</td>\n",
              "      <td>0.972262</td>\n",
              "      <td>0.971471</td>\n",
              "      <td>0.976843</td>\n",
              "      <td>0.997708</td>\n",
              "      <td>0.982274</td>\n",
              "      <td>0.027738</td>\n",
              "    </tr>\n",
              "  </tbody>\n",
              "</table>\n",
              "</div>"
            ],
            "text/plain": [
              "   Fold      Loss       TN     FP  ...  F1-score     AUROC       TPR       FPR\n",
              "0     1  0.051881  15670.0  336.0  ...  0.981558  0.998090  0.985114  0.020992\n",
              "1     2  0.057544  15874.0  247.0  ...  0.979169  0.997576  0.974912  0.015322\n",
              "2     3  0.055389  15575.0  407.0  ...  0.979808  0.998002  0.986123  0.025466\n",
              "3     4  0.057336  15865.0  380.0  ...  0.977920  0.997741  0.981127  0.023392\n",
              "4     5  0.059549  15458.0  441.0  ...  0.976843  0.997708  0.982274  0.027738\n",
              "\n",
              "[5 rows x 14 columns]"
            ]
          },
          "metadata": {},
          "execution_count": 5
        }
      ]
    },
    {
      "cell_type": "markdown",
      "metadata": {
        "id": "16rvmvGQ_KxL"
      },
      "source": [
        "Media das metricas do treinamento"
      ]
    },
    {
      "cell_type": "code",
      "metadata": {
        "colab": {
          "base_uri": "https://localhost:8080/"
        },
        "id": "ht53M0FJ_KHL",
        "outputId": "43cb4aa1-1351-49fa-c66b-0038f39d4821"
      },
      "source": [
        "print('Loss: {:.3f}'.format(result['Loss'].mean()))\n",
        "print('TN: {:.3f}'.format(result['TN'].mean()))\n",
        "print('FP: {:.3f}'.format(result['FP'].mean()))\n",
        "print('FN: {:.3f}'.format(result['FN'].mean()))\n",
        "print('TP: {:.3f}'.format(result['TP'].mean()))\n",
        "print('Accuracy: {:.3f}'.format(result['Accuracy'].mean()))\n",
        "print('Sensitivity: {:.3f}'.format(result['Sensitivity'].mean()))\n",
        "print('Specificity: {:.3f}'.format(result['Specificity'].mean()))\n",
        "print('Precision: {:.3f}'.format(result['Precision'].mean()))\n",
        "print('F1-score: {:.3f}'.format(result['F1-score'].mean()))\n",
        "print('AUROC: {:.3f}'.format(result['AUROC'].mean()))"
      ],
      "execution_count": 12,
      "outputs": [
        {
          "output_type": "stream",
          "name": "stdout",
          "text": [
            "Loss: 0.056\n",
            "TN: 15688.400\n",
            "FP: 362.200\n",
            "FN: 273.600\n",
            "TP: 14863.200\n",
            "Accuracy: 0.980\n",
            "Sensitivity: 0.982\n",
            "Specificity: 0.977\n",
            "Precision: 0.976\n",
            "F1-score: 0.979\n",
            "AUROC: 0.998\n"
          ]
        }
      ]
    },
    {
      "cell_type": "markdown",
      "metadata": {
        "id": "-7VWIrAgtm3c"
      },
      "source": [
        "# Testes\n",
        "\n",
        "-> Apenas ao final do treinamento pelos 5 folds"
      ]
    },
    {
      "cell_type": "markdown",
      "metadata": {
        "id": "0QgvBa_XWNPa"
      },
      "source": [
        "Define generator para testes"
      ]
    },
    {
      "cell_type": "code",
      "metadata": {
        "id": "-d0OUrtYSXXD"
      },
      "source": [
        "idg = tf.keras.preprocessing.image.ImageDataGenerator()"
      ],
      "execution_count": 32,
      "outputs": []
    },
    {
      "cell_type": "markdown",
      "metadata": {
        "id": "Hr8kYpopWRHp"
      },
      "source": [
        "Definição das informações passadas ao modelo pelo dataframe referente ao teste beta"
      ]
    },
    {
      "cell_type": "code",
      "metadata": {
        "colab": {
          "base_uri": "https://localhost:8080/"
        },
        "id": "0d4SHrCRn4NF",
        "outputId": "16365045-56ff-497e-9bb1-9ab3c2aaa01c"
      },
      "source": [
        "test_data_generator  = idg.flow_from_dataframe(test, directory = '/content/dataset/',\n",
        "\t\t\t\t\t\t\tx_col = \"filename\",  y_col = \"label\",\n",
        "\t\t\t\t\t\t\tclass_mode = \"binary\", shuffle = False, target_size=(224,224), batch_size=1)"
      ],
      "execution_count": 33,
      "outputs": [
        {
          "output_type": "stream",
          "name": "stdout",
          "text": [
            "Found 38985 validated image filenames belonging to 2 classes.\n"
          ]
        }
      ]
    },
    {
      "cell_type": "code",
      "metadata": {
        "colab": {
          "base_uri": "https://localhost:8080/"
        },
        "id": "mk-TR7pDn6Ar",
        "outputId": "101db124-366c-4950-e54d-5d56b02a7256"
      },
      "source": [
        "test_data_generator.class_indices"
      ],
      "execution_count": 34,
      "outputs": [
        {
          "output_type": "execute_result",
          "data": {
            "text/plain": [
              "{'negativo': 0, 'positivo': 1}"
            ]
          },
          "metadata": {},
          "execution_count": 34
        }
      ]
    },
    {
      "cell_type": "markdown",
      "metadata": {
        "id": "u4_4DF8_4tCM"
      },
      "source": [
        "Carga do modelo apenas para previsões"
      ]
    },
    {
      "cell_type": "code",
      "metadata": {
        "id": "GattRF0BLxWW"
      },
      "source": [
        "#apenas para predict\n",
        "json_file = open(r'/content/drive/MyDrive/TCC/modelo/model.json', 'r')\n",
        "loaded_model_json = json_file.read()\n",
        "json_file.close()\n",
        "loaded_model = tf.keras.models.model_from_json(loaded_model_json)\n",
        "# load weights\n",
        "loaded_model.load_weights(r'/content/drive/MyDrive/TCC/saved_models/weights_fold_3')\n",
        "print(\"Loaded model from disk\")"
      ],
      "execution_count": null,
      "outputs": []
    },
    {
      "cell_type": "markdown",
      "metadata": {
        "id": "Qfc-JJflWXqv"
      },
      "source": [
        "Nova instância do modelo para testes"
      ]
    },
    {
      "cell_type": "code",
      "metadata": {
        "colab": {
          "base_uri": "https://localhost:8080/"
        },
        "id": "DQ315LjMrlyd",
        "outputId": "0d757422-0dc6-46ce-e1b0-a38c349fe753"
      },
      "source": [
        "#esse é pro evaluate\n",
        "loaded_model = get_model()\n",
        "# load weights\n",
        "loaded_model.load_weights(r'/content/drive/MyDrive/TCC/saved_models/weights_fold_3')\n",
        "print(\"Loaded model from disk\")"
      ],
      "execution_count": 35,
      "outputs": [
        {
          "output_type": "stream",
          "name": "stdout",
          "text": [
            "Loaded model from disk\n"
          ]
        }
      ]
    },
    {
      "cell_type": "markdown",
      "metadata": {
        "id": "Y41BHcbFaJi4"
      },
      "source": [
        "Teste beta"
      ]
    },
    {
      "cell_type": "code",
      "metadata": {
        "colab": {
          "base_uri": "https://localhost:8080/"
        },
        "id": "gSMotxZFr3tQ",
        "outputId": "07e92ef8-2574-4012-cdf8-44fff6e81ce0"
      },
      "source": [
        "eval_teste = loaded_model.evaluate(test_data_generator)"
      ],
      "execution_count": 36,
      "outputs": [
        {
          "output_type": "stream",
          "name": "stdout",
          "text": [
            "38985/38985 [==============================] - 574s 14ms/step - loss: 0.0575 - tn: 19583.0000 - fp: 538.0000 - fn: 278.0000 - tp: 18586.0000 - accuracy: 0.9791 - precision: 0.9719 - recall: 0.9853 - auc: 0.9978\n"
          ]
        }
      ]
    },
    {
      "cell_type": "code",
      "metadata": {
        "id": "IEOuyyPEoB4o"
      },
      "source": [
        "predicted_prob_test = loaded_model.predict(test_data_generator)\n",
        "#predicted = (predicted > 0.5)\n",
        "#predicted = np.where(predicted>0.5, 'N-COVID', 'COVID-19')\n",
        "predicted_test = predicted_prob_test\n",
        "predicted_test = np.where(predicted_test>0.5, 1, 0)"
      ],
      "execution_count": 37,
      "outputs": []
    },
    {
      "cell_type": "markdown",
      "metadata": {
        "id": "YVbKouQjaMlu"
      },
      "source": [
        "Visualização das métricas para o teste beta"
      ]
    },
    {
      "cell_type": "code",
      "metadata": {
        "colab": {
          "base_uri": "https://localhost:8080/"
        },
        "id": "IaHXykvH08To",
        "outputId": "a9f53787-a68e-4e9a-b698-6e8d47334dce"
      },
      "source": [
        "print('Loss: {} \\n TN: {} \\n FP: {} \\n FN: {} \\n TP: {} \\n Accuracy: {} \\n Precision: {} \\n Recall: {} \\n AUC: {}'.format(eval_teste[0],eval_teste[1],eval_teste[2],eval_teste[3],eval_teste[4],eval_teste[5],eval_teste[6],eval_teste[7],eval_teste[8]))"
      ],
      "execution_count": 38,
      "outputs": [
        {
          "output_type": "stream",
          "name": "stdout",
          "text": [
            "Loss: 0.0575091652572155 \n",
            " TN: 19583.0 \n",
            " FP: 538.0 \n",
            " FN: 278.0 \n",
            " TP: 18586.0 \n",
            " Accuracy: 0.9790688753128052 \n",
            " Precision: 0.9718677997589111 \n",
            " Recall: 0.985262930393219 \n",
            " AUC: 0.9978416562080383\n"
          ]
        }
      ]
    },
    {
      "cell_type": "markdown",
      "metadata": {
        "id": "0h189N47aQ84"
      },
      "source": [
        "Matriz de confusão para o teste beta"
      ]
    },
    {
      "cell_type": "code",
      "metadata": {
        "colab": {
          "base_uri": "https://localhost:8080/"
        },
        "id": "uWs1fXcj2f1L",
        "outputId": "f55a89d5-4e52-452d-8cd4-5fd2dc2888f5"
      },
      "source": [
        "cm = confusion_matrix(test_data_generator.classes, predicted_test.ravel())\n",
        "print('Confusion Matrix : \\n', cm)"
      ],
      "execution_count": 39,
      "outputs": [
        {
          "output_type": "stream",
          "name": "stdout",
          "text": [
            "Confusion Matrix : \n",
            " [[19583   538]\n",
            " [  278 18586]]\n"
          ]
        }
      ]
    },
    {
      "cell_type": "markdown",
      "metadata": {
        "id": "sHVA5z9baU2D"
      },
      "source": [
        "Métricas completas teste beta"
      ]
    },
    {
      "cell_type": "code",
      "metadata": {
        "colab": {
          "base_uri": "https://localhost:8080/"
        },
        "id": "6M0OeKTZjbwC",
        "outputId": "dc2274b5-c8c0-4b1b-84fc-0aff2567e412"
      },
      "source": [
        "tn = eval_teste[1]\n",
        "fp = eval_teste[2]\n",
        "fn = eval_teste[3]\n",
        "tp = eval_teste[4]\n",
        "\n",
        "accuracy_test = (tp+tn)/(tp+tn+fp+fn)\n",
        "\n",
        "sensitivity_test = tp/(tp+fn)\n",
        "recall_test = tp/(tp+fn)\n",
        "\n",
        "specificity_test = tn/(tn+fp)\n",
        "\n",
        "precision_test = tp/(tp+fp)\n",
        "f1_score_test = (2*(precision_test*recall_test))/(precision_test + recall_test)\n",
        "\n",
        "tpr_test = tp/(tp+fn)\n",
        "fpr_test = fp/(fp+tn)\n",
        "\n",
        "print('TN: {} \\nFP: {} \\nFN: {} \\nTP: {}'.format(tn,fp,fn,tp))\n",
        "\n",
        "print('Accuracy: ' + str(accuracy_test))\n",
        "print('Sensitivity: '+ str(sensitivity_test))\n",
        "print('Specificity: '+ str(specificity_test))\n",
        "print('Precision: '+ str(precision_test))\n",
        "print('Recall: '+ str(recall_test))\n",
        "print('F1-score: '+ str(f1_score_test))\n",
        "\n",
        "print('TPR: '+ str(tpr_test))\n",
        "print('FPR: '+ str(fpr_test))"
      ],
      "execution_count": 40,
      "outputs": [
        {
          "output_type": "stream",
          "name": "stdout",
          "text": [
            "TN: 19583.0 \n",
            "FP: 538.0 \n",
            "FN: 278.0 \n",
            "TP: 18586.0\n",
            "Accuracy: 0.9790688726433243\n",
            "Sensitivity: 0.9852629346904156\n",
            "Specificity: 0.9732617663138015\n",
            "Precision: 0.9718678100815729\n",
            "Recall: 0.9852629346904156\n",
            "F1-score: 0.9785195324839423\n",
            "TPR: 0.9852629346904156\n",
            "FPR: 0.026738233686198497\n"
          ]
        }
      ]
    },
    {
      "cell_type": "markdown",
      "metadata": {
        "id": "ueL4-eaBaZ6w"
      },
      "source": [
        "Calculo roc e auc teste beta"
      ]
    },
    {
      "cell_type": "code",
      "metadata": {
        "colab": {
          "base_uri": "https://localhost:8080/"
        },
        "id": "r6mCX65w9-tW",
        "outputId": "4ebe83a4-fc47-42d4-d417-9ab7589d0634"
      },
      "source": [
        "#passando porcentagem da predição para roc_curve\n",
        "fpr_keras_test, tpr_keras_test, _ = metrics.roc_curve(test_data_generator.classes, predicted_prob_test.ravel())\n",
        "auc_t = metrics.roc_auc_score(test_data_generator.classes, predicted_prob_test.ravel())\n",
        "auc_keras_test = auc(fpr_keras_test, tpr_keras_test)\n",
        "print(auc_keras_test)\n",
        "print(tpr_keras_test)\n",
        "print(fpr_keras_test)"
      ],
      "execution_count": 41,
      "outputs": [
        {
          "output_type": "stream",
          "name": "stdout",
          "text": [
            "0.9979909542918438\n",
            "[0.         0.02199958 0.03276081 ... 0.99994699 1.         1.        ]\n",
            "[0.         0.         0.         ... 0.76904726 0.76904726 1.        ]\n"
          ]
        }
      ]
    },
    {
      "cell_type": "markdown",
      "metadata": {
        "id": "8uTsAh4yadnQ"
      },
      "source": [
        "Montagem do gráfico roc auc para o teste beta"
      ]
    },
    {
      "cell_type": "code",
      "metadata": {
        "colab": {
          "base_uri": "https://localhost:8080/",
          "height": 297
        },
        "id": "mHj3Nh0mWMl_",
        "outputId": "e0b25d4c-d212-41f6-a0a6-1f6821a4fd55"
      },
      "source": [
        "plt.plot(fpr_keras_test, tpr_keras_test, lw = 2, label = 'AUC = {:.3f}'.format(auc_keras_test))\n",
        "plt.plot([0, 1], [0, 1],\n",
        "         linestyle = '--',\n",
        "         color = (0.6, 0.6, 0.6))\n",
        "         #label = 'random guessing')\n",
        "#plt.plot([0, 0, 1], [0, 1, 1],\n",
        "#         linestyle = ':',\n",
        "#         color = 'black', \n",
        "#         label = 'perfect performance')\n",
        "\n",
        "plt.xlim([-0.05, 1.05])\n",
        "plt.ylim([-0.05, 1.05])\n",
        "plt.xlabel('False positive rate')\n",
        "plt.ylabel('True positive rate')\n",
        "plt.title('Receiver Operator Characteristic')\n",
        "plt.legend(loc = \"lower right\")\n",
        "plt.tight_layout()\n",
        "plt.show()"
      ],
      "execution_count": 42,
      "outputs": [
        {
          "output_type": "display_data",
          "data": {
            "image/png": "[encoded data removed]",
            "text/plain": [
              "<Figure size 432x288 with 1 Axes>"
            ]
          },
          "metadata": {
            "needs_background": "light"
          }
        }
      ]
    },
    {
      "cell_type": "markdown",
      "metadata": {
        "id": "ILyiAfyGai5P"
      },
      "source": [
        "Ampliação na região superior esquerda do gráfico auc do teste beta"
      ]
    },
    {
      "cell_type": "code",
      "metadata": {
        "colab": {
          "base_uri": "https://localhost:8080/",
          "height": 301
        },
        "id": "hdQRzMyqXcUs",
        "outputId": "d0edb500-37d5-4723-8cae-0d4ab45f16b8"
      },
      "source": [
        "plt.xlim(0, 0.2)\n",
        "plt.ylim(0.8, 1)\n",
        "plt.plot([0, 1], [0, 1], 'k--')\n",
        "plt.plot(fpr_keras_test, tpr_keras_test, label='AUC = {:.3f})'.format(auc_keras_test))\n",
        "plt.plot([0, 0, 1], [0, 1, 1],\n",
        "         linestyle = ':',\n",
        "         color = 'black')\n",
        "plt.xlabel('False positive rate')\n",
        "plt.ylabel('True positive rate')\n",
        "plt.title('ROC (Ampliação na região superior esquerda)')\n",
        "plt.legend(loc='best')\n",
        "plt.show()"
      ],
      "execution_count": 44,
      "outputs": [
        {
          "output_type": "display_data",
          "data": {
            "image/png": "[encoded data removed]",
            "text/plain": [
              "<Figure size 432x288 with 1 Axes>"
            ]
          },
          "metadata": {
            "needs_background": "light"
          }
        }
      ]
    },
    {
      "cell_type": "markdown",
      "metadata": {
        "id": "0vb_GtwSaobF"
      },
      "source": [
        "Matriz de confusão com elementros gráficos para o teste beta"
      ]
    },
    {
      "cell_type": "code",
      "metadata": {
        "colab": {
          "base_uri": "https://localhost:8080/",
          "height": 285
        },
        "id": "7ZS7kI7Jwr2n",
        "outputId": "8ba05d25-8b6c-42de-98f1-a7de3b880b04"
      },
      "source": [
        "group_names = ['TN','FP','FN','TP']\n",
        "group_counts = ['{0:0.0f}'.format(value) for value in\n",
        "                cm.flatten()]\n",
        "group_percentages = ['{0:.2%}'.format(value) for value in\n",
        "                     cm.flatten()/np.sum(cm)]\n",
        "labels = [f'{v1}\\n{v2}\\n{v3}' for v1, v2, v3 in\n",
        "          zip(group_names,group_counts,group_percentages)]\n",
        "labels = np.asarray(labels).reshape(2,2)\n",
        "sns.heatmap(cm, annot=labels, fmt='', cmap='Blues')"
      ],
      "execution_count": 45,
      "outputs": [
        {
          "output_type": "execute_result",
          "data": {
            "text/plain": [
              "<matplotlib.axes._subplots.AxesSubplot at 0x7f9f66c8ae50>"
            ]
          },
          "metadata": {},
          "execution_count": 45
        },
        {
          "output_type": "display_data",
          "data": {
            "image/png": "[encoded data removed]",
            "text/plain": [
              "<Figure size 432x288 with 2 Axes>"
            ]
          },
          "metadata": {
            "needs_background": "light"
          }
        }
      ]
    },
    {
      "cell_type": "code",
      "metadata": {
        "id": "qv7UnWcCoKMb"
      },
      "source": [
        "src = cv2.imread('/content/2A_images/' + 'radiopaedia_40_86625_0-0082.png') #positve\n",
        "#src = cv2.imread('/content/2A_images/' + 'CP_1462_4003_0011.png') #negative\n",
        "\n",
        "#pra testar manualmente so precisa dar o resize e colocar no formato (1,224,224,3), o preprocess ja esta na arquitetura\n",
        "#modelo\n",
        "img = cv2.resize(src, (224,224))\n",
        "\n",
        "\n",
        "#img = img/255\n",
        "#img = tf.keras.applications.resnet50.preprocess_input(img)\n",
        "#img.max(axis=(0, 1))\n",
        "#img\n",
        "img = np.expand_dims(img, axis=0)\n",
        "resp = loaded_model.predict(img)\n",
        "resp"
      ],
      "execution_count": null,
      "outputs": []
    },
    {
      "cell_type": "code",
      "metadata": {
        "id": "u5MaI9dY5Smn"
      },
      "source": [
        "#/content/dataset_ct_tcc_gregory_v1/CT_COVID/2020.01.24.919183-p27-132.png #covid\n",
        "#img = tf.keras.preprocessing.image.load_img('/content/dataset_ct_tcc_gregory_v1/CT_COVID/2020.01.24.919183-p27-132.png')\n",
        "img = tf.keras.preprocessing.image.load_img('/content/2A_images/NCP_96_1328_0038.png')\t\n",
        "plt.imshow(img)\n",
        "np.shape(img)"
      ],
      "execution_count": null,
      "outputs": []
    },
    {
      "cell_type": "markdown",
      "metadata": {
        "id": "J6CKjD_Iawzu"
      },
      "source": [
        "Dataframe para o conjunto de dados referente ao teste alpha que será passado ao modelo por dataframe"
      ]
    },
    {
      "cell_type": "code",
      "metadata": {
        "colab": {
          "base_uri": "https://localhost:8080/"
        },
        "id": "Q05qlyZq3mBn",
        "outputId": "0d16ef8a-ad65-4bf9-cb13-41a1e5a89c0d"
      },
      "source": [
        "teste2_data_generator  = idg.flow_from_dataframe(df14, directory='/content/conjalpha/',\n",
        "\t\t\t\t\t\t\tx_col = \"filename\",  y_col = \"label\",\n",
        "\t\t\t\t\t\t\tclass_mode = \"binary\", shuffle = False, target_size=(224,224), batch_size=1)"
      ],
      "execution_count": 46,
      "outputs": [
        {
          "output_type": "stream",
          "name": "stdout",
          "text": [
            "Found 541 validated image filenames belonging to 2 classes.\n"
          ]
        }
      ]
    },
    {
      "cell_type": "code",
      "metadata": {
        "colab": {
          "base_uri": "https://localhost:8080/"
        },
        "id": "iIUIVgUi4id9",
        "outputId": "c50c4494-6869-47d8-9fdd-d01c9f6af553"
      },
      "source": [
        "teste2_data_generator.class_indices"
      ],
      "execution_count": 47,
      "outputs": [
        {
          "output_type": "execute_result",
          "data": {
            "text/plain": [
              "{'negativo': 0, 'positivo': 1}"
            ]
          },
          "metadata": {},
          "execution_count": 47
        }
      ]
    },
    {
      "cell_type": "markdown",
      "metadata": {
        "id": "YXZp7taZa4Q4"
      },
      "source": [
        "Teste alpha"
      ]
    },
    {
      "cell_type": "code",
      "metadata": {
        "colab": {
          "base_uri": "https://localhost:8080/"
        },
        "id": "mDrEiGDr4eWM",
        "outputId": "97d0435f-c664-4b09-c29f-706400bd3d05"
      },
      "source": [
        "eval_test_2 = loaded_model.evaluate(teste2_data_generator)"
      ],
      "execution_count": 48,
      "outputs": [
        {
          "output_type": "stream",
          "name": "stdout",
          "text": [
            "541/541 [==============================] - 8s 14ms/step - loss: 1.1885 - tn: 149.0000 - fp: 45.0000 - fn: 145.0000 - tp: 202.0000 - accuracy: 0.6488 - precision: 0.8178 - recall: 0.5821 - auc: 0.7430\n"
          ]
        }
      ]
    },
    {
      "cell_type": "code",
      "metadata": {
        "id": "cHwBONgm4nva"
      },
      "source": [
        "predicted_prob_test = loaded_model.predict(teste2_data_generator)\n",
        "#predicted = (predicted > 0.5)\n",
        "#predicted = np.where(predicted>0.5, 'N-COVID', 'COVID-19')\n",
        "predicted_test = predicted_prob_test\n",
        "predicted_test = np.where(predicted_test>0.5, 1, 0)"
      ],
      "execution_count": 49,
      "outputs": []
    },
    {
      "cell_type": "markdown",
      "metadata": {
        "id": "7kOCoOPLa607"
      },
      "source": [
        "Matriz de confusão teste alpha"
      ]
    },
    {
      "cell_type": "code",
      "metadata": {
        "colab": {
          "base_uri": "https://localhost:8080/"
        },
        "id": "XKqLQLyK7AgD",
        "outputId": "e0e35d1d-80ab-4bac-bfcb-ba3c5397038b"
      },
      "source": [
        "cm2 = confusion_matrix(teste2_data_generator.classes, predicted_test.ravel())\n",
        "cm2"
      ],
      "execution_count": 50,
      "outputs": [
        {
          "output_type": "execute_result",
          "data": {
            "text/plain": [
              "array([[149,  45],\n",
              "       [145, 202]])"
            ]
          },
          "metadata": {},
          "execution_count": 50
        }
      ]
    },
    {
      "cell_type": "markdown",
      "metadata": {
        "id": "moo5JmOjbCMC"
      },
      "source": [
        "Matriz de confusão com elementos gráficos para o teste alpha"
      ]
    },
    {
      "cell_type": "code",
      "metadata": {
        "colab": {
          "base_uri": "https://localhost:8080/",
          "height": 286
        },
        "id": "DwhyKZ7YssGy",
        "outputId": "5c7c30df-09da-438f-d1e7-78a4210b55c1"
      },
      "source": [
        "group_names = ['TN','FP','FN','TP']\n",
        "group_counts = ['{0:0.0f}'.format(value) for value in\n",
        "                cm2.flatten()]\n",
        "group_percentages = ['{0:.2%}'.format(value) for value in\n",
        "                     cm2.flatten()/np.sum(cm2)]\n",
        "labels = [f'{v1}\\n{v2}\\n{v3}' for v1, v2, v3 in\n",
        "          zip(group_names,group_counts,group_percentages)]\n",
        "labels = np.asarray(labels).reshape(2,2)\n",
        "sns.heatmap(cm2, annot=labels, fmt='', cmap='Blues')"
      ],
      "execution_count": 51,
      "outputs": [
        {
          "output_type": "execute_result",
          "data": {
            "text/plain": [
              "<matplotlib.axes._subplots.AxesSubplot at 0x7f9f66aaca50>"
            ]
          },
          "metadata": {},
          "execution_count": 51
        },
        {
          "output_type": "display_data",
          "data": {
            "image/png": "[encoded data removed]",
            "text/plain": [
              "<Figure size 432x288 with 2 Axes>"
            ]
          },
          "metadata": {
            "needs_background": "light"
          }
        }
      ]
    },
    {
      "cell_type": "markdown",
      "metadata": {
        "id": "lCvD82P1bF0Z"
      },
      "source": [
        "Métricas completas teste alpha"
      ]
    },
    {
      "cell_type": "code",
      "metadata": {
        "colab": {
          "base_uri": "https://localhost:8080/"
        },
        "id": "IQZuoa6-vMua",
        "outputId": "3d5d068b-3cd2-4ecc-d7a1-e12f65bf678a"
      },
      "source": [
        "tn = eval_test_2[1]\n",
        "fp = eval_test_2[2]\n",
        "fn = eval_test_2[3]\n",
        "tp = eval_test_2[4]\n",
        "\n",
        "accuracy_test = (tp+tn)/(tp+tn+fp+fn)\n",
        "\n",
        "sensitivity_test = tp/(tp+fn)\n",
        "recall_test = tp/(tp+fn)\n",
        "\n",
        "specificity_test = tn/(tn+fp)\n",
        "\n",
        "precision_test = tp/(tp+fp)\n",
        "f1_score_test = (2*(precision_test*recall_test))/(precision_test + recall_test)\n",
        "\n",
        "tpr_test = tp/(tp+fn)\n",
        "fpr_test = fp/(fp+tn)\n",
        "\n",
        "print('TN: {} \\nFP: {} \\nFN: {} \\nTP: {}'.format(tn,fp,fn,tp))\n",
        "\n",
        "print('Accuracy: ' + str(accuracy_test))\n",
        "print('Sensitivity: '+ str(sensitivity_test))\n",
        "print('Specificity: '+ str(specificity_test))\n",
        "print('Precision: '+ str(precision_test))\n",
        "print('Recall: '+ str(recall_test))\n",
        "print('F1-score: '+ str(f1_score_test))\n",
        "\n",
        "print('TPR: '+ str(tpr_test))\n",
        "print('FPR: '+ str(fpr_test))"
      ],
      "execution_count": 52,
      "outputs": [
        {
          "output_type": "stream",
          "name": "stdout",
          "text": [
            "TN: 149.0 \n",
            "FP: 45.0 \n",
            "FN: 145.0 \n",
            "TP: 202.0\n",
            "Accuracy: 0.6487985212569316\n",
            "Sensitivity: 0.5821325648414986\n",
            "Specificity: 0.7680412371134021\n",
            "Precision: 0.8178137651821862\n",
            "Recall: 0.5821325648414986\n",
            "F1-score: 0.68013468013468\n",
            "TPR: 0.5821325648414986\n",
            "FPR: 0.23195876288659795\n"
          ]
        }
      ]
    },
    {
      "cell_type": "markdown",
      "metadata": {
        "id": "LPE5l086bIkY"
      },
      "source": [
        "Calculo roc e auc para teste alpha"
      ]
    },
    {
      "cell_type": "code",
      "metadata": {
        "colab": {
          "base_uri": "https://localhost:8080/"
        },
        "id": "p9wYFZJiFiru",
        "outputId": "42d38a36-a67f-4667-d2a5-3df547ae201f"
      },
      "source": [
        "#passando porcentagem da predição para roc_curve\n",
        "fpr_keras_test2, tpr_keras_test2, _ = roc_curve(teste2_data_generator.classes, predicted_prob_test.ravel())\n",
        "auc_keras_test2 = auc(fpr_keras_test2, tpr_keras_test2)\n",
        "print(auc_keras_test2)\n",
        "print(tpr_keras_test2)\n",
        "print(fpr_keras_test2)"
      ],
      "execution_count": 53,
      "outputs": [
        {
          "output_type": "stream",
          "name": "stdout",
          "text": [
            "0.7476900680352953\n",
            "[0.         0.03170029 0.04322767 0.04899135 0.05475504 0.06340058\n",
            " 0.06916427 0.13256484 0.13256484 0.15850144 0.15850144 0.16714697\n",
            " 0.16714697 0.20461095 0.20461095 0.21613833 0.21613833 0.21902017\n",
            " 0.21902017 0.24207493 0.24207493 0.25072046 0.25072046 0.26224784\n",
            " 0.26224784 0.26801153 0.26801153 0.27665706 0.27665706 0.2795389\n",
            " 0.2795389  0.29971182 0.29971182 0.31412104 0.31412104 0.32853026\n",
            " 0.32853026 0.33429395 0.33429395 0.36311239 0.36311239 0.38616715\n",
            " 0.38616715 0.39481268 0.39481268 0.40057637 0.40057637 0.4351585\n",
            " 0.4351585  0.44668588 0.44668588 0.4610951  0.4610951  0.46685879\n",
            " 0.46685879 0.46974063 0.46974063 0.47838617 0.47838617 0.49279539\n",
            " 0.49279539 0.49855908 0.49855908 0.50720461 0.50720461 0.5129683\n",
            " 0.5129683  0.51585014 0.51585014 0.52161383 0.52161383 0.52737752\n",
            " 0.52737752 0.54755043 0.54755043 0.55331412 0.55331412 0.55907781\n",
            " 0.55907781 0.56195965 0.56195965 0.58501441 0.58501441 0.60806916\n",
            " 0.60806916 0.61095101 0.61095101 0.6167147  0.6167147  0.61959654\n",
            " 0.61959654 0.62824207 0.62824207 0.63112392 0.63112392 0.63400576\n",
            " 0.63400576 0.63976945 0.63976945 0.64841499 0.64841499 0.65994236\n",
            " 0.65994236 0.66282421 0.66282421 0.70605187 0.70605187 0.71181556\n",
            " 0.71181556 0.71469741 0.71469741 0.72334294 0.72334294 0.72622478\n",
            " 0.72622478 0.72910663 0.72910663 0.73198847 0.73198847 0.73487032\n",
            " 0.73487032 0.74063401 0.74063401 0.75216138 0.75216138 0.76080692\n",
            " 0.76080692 0.76368876 0.76368876 0.76657061 0.76657061 0.76945245\n",
            " 0.76945245 0.77521614 0.77521614 0.7925072  0.7925072  0.80115274\n",
            " 0.80115274 0.81268012 0.81268012 0.8184438  0.8184438  0.82420749\n",
            " 0.82420749 0.83285303 0.83285303 0.83861671 0.83861671 0.84149856\n",
            " 0.84149856 0.8443804  0.8443804  0.85302594 0.85302594 0.85590778\n",
            " 0.85590778 0.86167147 0.86167147 0.86743516 0.86743516 0.870317\n",
            " 0.870317   0.87319885 0.87319885 0.87608069 0.87608069 0.87896254\n",
            " 0.87896254 0.88760807 0.88760807 0.89337176 0.89337176 0.8962536\n",
            " 0.8962536  0.89913545 0.89913545 0.90201729 0.90201729 0.90778098\n",
            " 0.90778098 0.91354467 0.91354467 0.91930836 0.91930836 0.9221902\n",
            " 0.9221902  0.92795389 0.92795389 0.93083573 0.93083573 0.93659942\n",
            " 0.93659942 0.93948127 0.93948127 0.94236311 0.94236311 0.95389049\n",
            " 0.95389049 0.95677233 0.95677233 0.95965418 0.95965418 0.97118156\n",
            " 0.97118156 0.98270893 0.98270893 0.98559078 0.98559078 0.99135447\n",
            " 0.99135447 0.99423631 0.99423631 0.99711816 0.99711816 1.\n",
            " 1.        ]\n",
            "[0.         0.         0.         0.         0.         0.\n",
            " 0.         0.         0.00515464 0.00515464 0.01030928 0.01030928\n",
            " 0.01546392 0.01546392 0.02061856 0.02061856 0.0257732  0.0257732\n",
            " 0.03092784 0.03092784 0.03608247 0.03608247 0.04123711 0.04123711\n",
            " 0.04639175 0.04639175 0.05154639 0.05154639 0.05670103 0.05670103\n",
            " 0.06185567 0.06185567 0.06701031 0.06701031 0.07216495 0.07216495\n",
            " 0.07731959 0.07731959 0.08247423 0.08247423 0.08762887 0.08762887\n",
            " 0.09278351 0.09278351 0.09793814 0.09793814 0.10309278 0.10309278\n",
            " 0.11340206 0.11340206 0.1185567  0.1185567  0.12371134 0.12371134\n",
            " 0.12886598 0.12886598 0.13917526 0.13917526 0.1443299  0.1443299\n",
            " 0.15463918 0.15463918 0.16494845 0.16494845 0.18556701 0.18556701\n",
            " 0.19587629 0.19587629 0.20103093 0.20103093 0.20618557 0.20618557\n",
            " 0.21134021 0.21134021 0.21649485 0.21649485 0.22164948 0.22164948\n",
            " 0.22680412 0.22680412 0.23195876 0.23195876 0.2371134  0.2371134\n",
            " 0.24226804 0.24226804 0.24742268 0.24742268 0.25257732 0.25257732\n",
            " 0.25773196 0.25773196 0.2628866  0.2628866  0.26804124 0.26804124\n",
            " 0.27319588 0.27319588 0.27835052 0.27835052 0.28350515 0.28350515\n",
            " 0.28865979 0.28865979 0.29381443 0.29381443 0.30412371 0.30412371\n",
            " 0.31958763 0.31958763 0.34020619 0.34020619 0.34536082 0.34536082\n",
            " 0.35051546 0.35051546 0.3556701  0.3556701  0.36082474 0.36082474\n",
            " 0.36597938 0.36597938 0.37113402 0.37113402 0.37628866 0.37628866\n",
            " 0.39690722 0.39690722 0.40206186 0.40206186 0.41237113 0.41237113\n",
            " 0.41752577 0.41752577 0.42268041 0.42268041 0.43298969 0.43298969\n",
            " 0.43814433 0.43814433 0.46391753 0.46391753 0.46907216 0.46907216\n",
            " 0.47938144 0.47938144 0.5        0.5        0.50515464 0.50515464\n",
            " 0.51030928 0.51030928 0.53092784 0.53092784 0.55670103 0.55670103\n",
            " 0.57731959 0.57731959 0.59278351 0.59278351 0.59793814 0.59793814\n",
            " 0.62371134 0.62371134 0.62886598 0.62886598 0.63402062 0.63402062\n",
            " 0.68041237 0.68041237 0.69587629 0.69587629 0.70103093 0.70103093\n",
            " 0.72164948 0.72164948 0.74226804 0.74226804 0.75257732 0.75257732\n",
            " 0.77319588 0.77319588 0.78865979 0.78865979 0.79896907 0.79896907\n",
            " 0.80927835 0.80927835 0.81443299 0.81443299 0.82474227 0.82474227\n",
            " 0.82989691 0.82989691 0.85051546 0.85051546 0.8556701  0.8556701\n",
            " 0.86082474 0.86082474 0.87113402 0.87113402 0.87628866 0.87628866\n",
            " 0.89690722 0.89690722 0.90721649 0.90721649 0.91752577 0.91752577\n",
            " 0.92268041 0.92268041 0.92783505 0.92783505 0.96907216 0.96907216\n",
            " 1.        ]\n"
          ]
        }
      ]
    },
    {
      "cell_type": "markdown",
      "metadata": {
        "id": "0JxvQCHybMCS"
      },
      "source": [
        "Montagem do gráfico de auc para o teste alpha"
      ]
    },
    {
      "cell_type": "code",
      "metadata": {
        "colab": {
          "base_uri": "https://localhost:8080/",
          "height": 297
        },
        "id": "XHkafahVFia_",
        "outputId": "a62e7133-bd02-4e8d-d0ed-e2e8be8a6529"
      },
      "source": [
        "plt.plot(fpr_keras_test2, tpr_keras_test2, lw = 2, label = 'AUC = {:.3f}'.format(auc_keras_test2))\n",
        "plt.plot([0, 1], [0, 1],\n",
        "         linestyle = '--',\n",
        "         color = (0.6, 0.6, 0.6))\n",
        "         #label = 'random guessing')\n",
        "#plt.plot([0, 0, 1], [0, 1, 1],\n",
        "#         linestyle = ':',\n",
        "#         color = 'black', \n",
        "#         label = 'perfect performance')\n",
        "\n",
        "plt.xlim([-0.05, 1.05])\n",
        "plt.ylim([-0.05, 1.05])\n",
        "plt.xlabel('False positive rate')\n",
        "plt.ylabel('True positive rate')\n",
        "plt.title('Receiver Operator Characteristic')\n",
        "plt.legend(loc = \"lower right\")\n",
        "plt.tight_layout()\n",
        "plt.show()"
      ],
      "execution_count": 54,
      "outputs": [
        {
          "output_type": "display_data",
          "data": {
            "image/png": "[encoded data removed]",
            "text/plain": [
              "<Figure size 432x288 with 1 Axes>"
            ]
          },
          "metadata": {
            "needs_background": "light"
          }
        }
      ]
    }
  ]
}